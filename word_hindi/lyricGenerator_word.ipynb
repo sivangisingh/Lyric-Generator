{
 "cells": [
  {
   "cell_type": "markdown",
   "metadata": {},
   "source": [
    "# Project Name: Lyric Generator\n",
    "Description:\n",
    "Implementing a Deep Neural network using LSTMs to create a character based lyric generator\n",
    "\n",
    "Details:\n",
    "1. step size: 5\n",
    "2. batch size: 32\n",
    "3. Epochs: 10"
   ]
  },
  {
   "cell_type": "markdown",
   "metadata": {},
   "source": [
    "### Importing Libraries"
   ]
  },
  {
   "cell_type": "code",
   "execution_count": 26,
   "metadata": {
    "colab": {},
    "colab_type": "code",
    "id": "Qh1Mk6st3YGX",
    "outputId": "3870d975-28a9-4ec8-d417-b99a60027489"
   },
   "outputs": [],
   "source": [
    "import keras\n",
    "import tensorflow as tf\n",
    "from keras.models import Sequential\n",
    "from keras.models import model_from_json\n",
    "from keras.layers import Activation,LSTM,Dense,CuDNNLSTM, Flatten, Bidirectional, Dropout\n",
    "from keras.optimizers import Adam\n",
    "import pandas as pd\n",
    "import numpy as np\n",
    "from keras.callbacks import LambdaCallback, ModelCheckpoint, EarlyStopping\n",
    "import os\n",
    "import matplotlib.pyplot as plt\n",
    "import re\n",
    "import pandas as pd\n",
    "np.random.seed(10)"
   ]
  },
  {
   "cell_type": "markdown",
   "metadata": {},
   "source": [
    "### Design Parameters"
   ]
  },
  {
   "cell_type": "code",
   "execution_count": 27,
   "metadata": {},
   "outputs": [],
   "source": [
    "BATCH_SIZE = 32\n",
    "maxlen = 5 ##timesteps\n",
    "epochs = 10\n",
    "MIN_WORD_FREQUENCY = 10"
   ]
  },
  {
   "cell_type": "code",
   "execution_count": 28,
   "metadata": {},
   "outputs": [],
   "source": [
    "def load_lyrics(path):\n",
    "    '''\n",
    "    Function to load lyrics of all the artists in the input path\n",
    "    '''\n",
    "    lyrics = \"\"\n",
    "    for fn in os.listdir(path):\n",
    "        with open(os.path.join(path, fn), 'r') as song:\n",
    "            song_lyrics = clean_string(song.read())\n",
    "            lyrics += song_lyrics\n",
    "    return lyrics\n",
    "\n",
    "def clean_string(string):\n",
    "    \"\"\"\n",
    "    Cleans unwanted characters and words from string.\n",
    "    @param string: The string to be cleaned.\n",
    "    @return: The cleaned string.\n",
    "    \"\"\"\n",
    "    string = string.lower()  # lowercase\n",
    "\n",
    "    clean_words = []\n",
    "    for word in string.split():\n",
    "#         if(word and (word[0] == \"[\" and word[-1] == \"]\")\\\n",
    "#            or (word[0] == \"(\" and word[-1] == \")\")):\n",
    "#             continue\n",
    "        # clean words with quotation marks on only one side\n",
    "        if word[0] == '\"' and word[-1] != '\"':\n",
    "            word = word[1:]\n",
    "        elif word[-1] == '\"' and word[0] != '\"':\n",
    "            word = word[-1]\n",
    "\n",
    "        # clean words with parenthases on only one side\n",
    "        if word[0] == '(' and word[-1] != ')':\n",
    "            word = word[1:]\n",
    "        elif word[-1] == ')' and word[0] != '(':\n",
    "            word = word[:-1]\n",
    "\n",
    "        clean_words.append(word)\n",
    "    return ' '.join(clean_words)\n",
    "\n",
    "def clean_array(vec):\n",
    "    \"\"\"\n",
    "    Cleans unwanted characters and words from string.\n",
    "    @param string: The string to be cleaned.\n",
    "    @return: The cleaned string.\n",
    "    \"\"\"\n",
    "    clean_words = []\n",
    "    for word in vec:\n",
    "        if(word and (word[0] == \"[\" and word[-1] == \"]\")\\\n",
    "           or (word[0] == \"(\" and word[-1] == \")\")):\n",
    "            continue\n",
    "        # clean words with quotation marks on only one side\n",
    "        if word[0] == '\"' and word[-1] != '\"':\n",
    "            word = word[1:]\n",
    "        elif word[-1] == '\"' and word[0] != '\"':\n",
    "            word = word[-1]\n",
    "\n",
    "        # clean words with parenthases on only one side\n",
    "        if word[0] == '(' and word[-1] != ')':\n",
    "            word = word[1:]\n",
    "        elif word[-1] == ')' and word[0] != '(':\n",
    "            word = word[:-1]\n",
    "\n",
    "        clean_words.append(word)\n",
    "    return ' '.join(clean_words)"
   ]
  },
  {
   "cell_type": "markdown",
   "metadata": {},
   "source": [
    "### Reading Input"
   ]
  },
  {
   "cell_type": "code",
   "execution_count": 29,
   "metadata": {},
   "outputs": [],
   "source": [
    "df=pd.read_csv('../hindi_songs.csv')['text']\n",
    "data=np.array(df)"
   ]
  },
  {
   "cell_type": "code",
   "execution_count": 30,
   "metadata": {},
   "outputs": [
    {
     "data": {
      "text/plain": [
       "'I broke and fell in Your arms in such a way\\nLike a leaf falls from a tree carelessly\\nYou broke me but I finally got united with You\\nYou took away everything of mine\\nI had no worries, shame or care for even a moment\\nIn every cell of mine, there’s a desire to see You\\nIn every cell of mine, there’s a desire to see You\\nIt is limitless and infinite.\\nToday I feel love for you again\\nToday I feel love for you again\\nIt is limitless and infinite.You are my carefreeness\\nYou are my evening prayer\\nYou are reasonlessly essential to me\\nYou are my desire yet you are missing\\nAnd you are that quest whom1\\nThese chain of events brought to me.\\nYour lips are expressing (something)\\nYour lips are expressing (something)\\nIt is limitless and infinite.'"
      ]
     },
     "execution_count": 30,
     "metadata": {},
     "output_type": "execute_result"
    }
   ],
   "source": [
    "data[0]"
   ]
  },
  {
   "cell_type": "markdown",
   "metadata": {},
   "source": [
    "### Creating corpus(all the characters in all the songs concatenated)\n",
    "1. Converting all the characters to lower"
   ]
  },
  {
   "cell_type": "code",
   "execution_count": 31,
   "metadata": {
    "colab": {},
    "colab_type": "code",
    "id": "9qzGPjvI3YGl"
   },
   "outputs": [
    {
     "name": "stdout",
     "output_type": "stream",
     "text": [
      "Corpus length in characters: 222299\n",
      "Corpus length in words: 49142\n"
     ]
    }
   ],
   "source": [
    "text=''\n",
    "for ix in range(len(data)):\n",
    "    text+=data[ix]\n",
    "# text = text.lower()\n",
    "text = text.lower().replace('\\n', ' \\n ')\n",
    "replace_chars = ['(',')','[',']',]\n",
    "# text = text.replace(/[^\\s!-@[-`{-~]/g, \"A\")\n",
    "text = re.sub(\" +\" , \" \", text)\n",
    "text = re.sub('[^\\t\\n\\r\\f\\va-zA-Z ]+', '', text)\n",
    "# text = re.sub('[()]' , '', text)\n",
    "# text = re.sub('[.,]' , '', text)\n",
    "# text = re.sub(r'[\\W\\S]' , '', text)\n",
    "# text = re.sub(r'[\\d-]+ ', '', text)\n",
    "print('Corpus length in characters:', len(text))\n",
    "corpus = [w for w in text.split(' ') if w.strip() != '' or w == '\\n'\n",
    "          and (w[0] not in [\"(\",\"[\" ] and w[-1] not in [\")\",\"]\" ])]\n",
    "while \"\" in corpus:\n",
    "    corpus.remove(\"\")\n",
    "print('Corpus length in words:', len(corpus))"
   ]
  },
  {
   "cell_type": "markdown",
   "metadata": {},
   "source": [
    "### Filtering vocabulary based on word frequency"
   ]
  },
  {
   "cell_type": "code",
   "execution_count": 32,
   "metadata": {},
   "outputs": [],
   "source": [
    "word_freq = {}\n",
    "for word in corpus:\n",
    "    word_freq[word] = word_freq.get(word, 0) + 1\n",
    "\n",
    "ignored_words = set()\n",
    "for k, v in word_freq.items():\n",
    "    if word_freq[k] < MIN_WORD_FREQUENCY:\n",
    "        ignored_words.add(k)"
   ]
  },
  {
   "cell_type": "code",
   "execution_count": 33,
   "metadata": {},
   "outputs": [
    {
     "name": "stdout",
     "output_type": "stream",
     "text": [
      "Unique words before ignoring: 3510\n",
      "Ignoring words with frequency < 10\n",
      "Unique words after ignoring: 564\n"
     ]
    }
   ],
   "source": [
    "vocab = set(corpus)\n",
    "print('Unique words before ignoring:', len(vocab))\n",
    "print('Ignoring words with frequency <', MIN_WORD_FREQUENCY)\n",
    "vocab = sorted(set(vocab) - ignored_words)\n",
    "print('Unique words after ignoring:', len(vocab))\n",
    "# print_vocabulary(vocabulary, words)"
   ]
  },
  {
   "cell_type": "markdown",
   "metadata": {},
   "source": [
    "### Creating Vocabulary and char, index mappings"
   ]
  },
  {
   "cell_type": "code",
   "execution_count": 34,
   "metadata": {
    "colab": {},
    "colab_type": "code",
    "id": "rho43V-J3YGr"
   },
   "outputs": [],
   "source": [
    "word_ix={c:i for i,c in enumerate(vocab)}\n",
    "ix_word={i:c for i,c in enumerate(vocab)}"
   ]
  },
  {
   "cell_type": "markdown",
   "metadata": {},
   "source": [
    "### Filtering corpus based on new vocabulary"
   ]
  },
  {
   "cell_type": "code",
   "execution_count": 35,
   "metadata": {},
   "outputs": [
    {
     "name": "stdout",
     "output_type": "stream",
     "text": [
      "Ignored sequences: 26649\n",
      "Remaining sequences: 22488\n"
     ]
    }
   ],
   "source": [
    "sentences = []\n",
    "next_words = []\n",
    "ignored = 0\n",
    "for i in range(0, len(corpus) - maxlen):\n",
    "    # Only add the sequences where no word is in ignored_words\n",
    "    if len(set(corpus[i: i+maxlen+1]).intersection(ignored_words)) == 0:\n",
    "        sentences.append(corpus[i: i + maxlen])\n",
    "        next_words.append(corpus[i + maxlen])\n",
    "    else:\n",
    "        ignored = ignored + 1\n",
    "print('Ignored sequences:', ignored)\n",
    "print('Remaining sequences:', len(sentences))"
   ]
  },
  {
   "cell_type": "markdown",
   "metadata": {},
   "source": [
    "### Creating the train and test datasets"
   ]
  },
  {
   "cell_type": "code",
   "execution_count": 36,
   "metadata": {
    "colab": {},
    "colab_type": "code",
    "id": "X46FgeuG3YG6"
   },
   "outputs": [],
   "source": [
    "split_count = int(0.8 * len(sentences))\n",
    "sentences_test = sentences[split_count:]\n",
    "next_words_test = next_words[split_count:]\n",
    "sentences = sentences[:split_count]\n",
    "next_words = next_words[:split_count]"
   ]
  },
  {
   "cell_type": "markdown",
   "metadata": {},
   "source": [
    "### Check vocab size and corpus size"
   ]
  },
  {
   "cell_type": "code",
   "execution_count": 37,
   "metadata": {
    "colab": {},
    "colab_type": "code",
    "id": "FDWiKD1T3YG3"
   },
   "outputs": [
    {
     "name": "stdout",
     "output_type": "stream",
     "text": [
      "564\n"
     ]
    }
   ],
   "source": [
    "vocab_size=len(vocab) ##Dimentions of each char\n",
    "print(vocab_size)"
   ]
  },
  {
   "cell_type": "code",
   "execution_count": 38,
   "metadata": {},
   "outputs": [
    {
     "data": {
      "text/plain": [
       "49142"
      ]
     },
     "execution_count": 38,
     "metadata": {},
     "output_type": "execute_result"
    }
   ],
   "source": [
    "len(corpus)"
   ]
  },
  {
   "cell_type": "code",
   "execution_count": 39,
   "metadata": {},
   "outputs": [],
   "source": [
    "def generator(sentence_list, next_word_list, batch_size):\n",
    "    '''\n",
    "    Generator function to generate the input/output data using\n",
    "    generators concept(to avoid RAM overflow)\n",
    "    '''\n",
    "    index = 0\n",
    "    while True:\n",
    "        x = np.zeros((batch_size, maxlen, vocab_size), dtype=np.bool)\n",
    "        y = np.zeros((batch_size, vocab_size), dtype=np.bool)\n",
    "        for i in range(batch_size):\n",
    "            for t, w in enumerate(sentence_list[index]):\n",
    "                x[i, t, word_ix[w]] = 1\n",
    "            y[i, word_ix[next_word_list[index]]] = 1\n",
    "\n",
    "            index = index + 1\n",
    "            if index == len(sentence_list):\n",
    "                index = 0\n",
    "        yield x, y"
   ]
  },
  {
   "cell_type": "code",
   "execution_count": 40,
   "metadata": {
    "colab": {},
    "colab_type": "code",
    "id": "mGj6PbK-3YHP",
    "scrolled": true
   },
   "outputs": [],
   "source": [
    "def create_model(timesteps, vocab_size, hidden_size, no_layers=1,dropout=0.2):\n",
    "    '''\n",
    "    Creating the model\n",
    "    '''\n",
    "    model = Sequential()\n",
    "    for i in range(no_layers):\n",
    "        model.add(Bidirectional(CuDNNLSTM(hidden_size, return_sequences=True),\n",
    "                                input_shape=(timesteps, vocab_size)))\n",
    "    model.add(Flatten())\n",
    "#     model.add(Bidirectional(CuDNNLSTM(128), input_shape=(timesteps,vocab_size)))\n",
    "    model.add(Dropout(dropout))\n",
    "    model.add(Dense(vocab_size))\n",
    "    model.add(Activation('softmax'))\n",
    "    model.summary()\n",
    "    model.compile(optimizer=Adam(lr=0.01), loss='categorical_crossentropy')\n",
    "    return model"
   ]
  },
  {
   "cell_type": "code",
   "execution_count": 41,
   "metadata": {},
   "outputs": [
    {
     "name": "stdout",
     "output_type": "stream",
     "text": [
      "_________________________________________________________________\n",
      "Layer (type)                 Output Shape              Param #   \n",
      "=================================================================\n",
      "bidirectional_3 (Bidirection (None, 5, 32)             74496     \n",
      "_________________________________________________________________\n",
      "flatten_3 (Flatten)          (None, 160)               0         \n",
      "_________________________________________________________________\n",
      "dropout_3 (Dropout)          (None, 160)               0         \n",
      "_________________________________________________________________\n",
      "dense_3 (Dense)              (None, 564)               90804     \n",
      "_________________________________________________________________\n",
      "activation_3 (Activation)    (None, 564)               0         \n",
      "=================================================================\n",
      "Total params: 165,300\n",
      "Trainable params: 165,300\n",
      "Non-trainable params: 0\n",
      "_________________________________________________________________\n"
     ]
    }
   ],
   "source": [
    "model = create_model(maxlen, vocab_size, 16)"
   ]
  },
  {
   "cell_type": "code",
   "execution_count": 42,
   "metadata": {},
   "outputs": [],
   "source": [
    "def sample(preds, temperature=1.0):\n",
    "    '''\n",
    "    helper function to sample an index from a probability array\n",
    "    '''\n",
    "    preds = np.asarray(preds).astype('float64')\n",
    "    preds = np.log(preds) / temperature\n",
    "    exp_preds = np.exp(preds)\n",
    "    preds = exp_preds / np.sum(exp_preds)\n",
    "    probas = np.random.multinomial(1, preds, 1)\n",
    "    return np.argmax(probas)\n",
    "\n",
    "def on_epoch_end(epoch, logs):\n",
    "    '''\n",
    "    Callback function to write output to file after each epoch\n",
    "    '''\n",
    "    # Function invoked at end of each epoch. Prints generated text.\n",
    "    examples_file.write('\\n----- Generating text after Epoch: %d\\n' % epoch)\n",
    "\n",
    "    # Randomly pick a seed sequence\n",
    "    seed_index = np.random.randint(len(sentences+sentences_test))\n",
    "    seed = (sentences+sentences_test)[seed_index]\n",
    "#     print(seed)\n",
    "\n",
    "    prev_word = None\n",
    "    for diversity in [0.3, 0.4, 0.5, 0.6, 0.7]:\n",
    "        sentence = seed\n",
    "        examples_file.write('----- Diversity:' + str(diversity) + '\\n')\n",
    "        examples_file.write('----- Generating with seed:\\n\"' + ' '.join(sentence) + '\"\\n')\n",
    "        examples_file.write(\"----- Generated lyrics:\\n\")\n",
    "        examples_file.write(' '.join(sentence))\n",
    "\n",
    "        for i in range(100):\n",
    "            x_pred = np.zeros((1, maxlen, vocab_size))\n",
    "#             print(\"sentence len: {0}\".format(len(sentence)))\n",
    "            for t, word in enumerate(sentence):\n",
    "#                 print(word)\n",
    "                x_pred[0, t,word_ix[word]] = 1\n",
    "\n",
    "            preds = model.predict(x_pred, verbose=0)[0]\n",
    "            next_index = sample(preds, diversity)\n",
    "            next_word_pred = ix_word[next_index]\n",
    "\n",
    "            sentence = sentence[1:]\n",
    "#             print(sentence)\n",
    "            sentence.append(next_word_pred)\n",
    "            if(prev_word == \"\\n\"):\n",
    "                examples_file.write(next_word_pred)\n",
    "            else:\n",
    "                examples_file.write(\" \" + next_word_pred)\n",
    "        examples_file.write('\\n\\n')\n",
    "    examples_file.write('='*80 + '\\n')\n",
    "#     examples_file.flush()"
   ]
  },
  {
   "cell_type": "markdown",
   "metadata": {},
   "source": [
    "### Opening the output file"
   ]
  },
  {
   "cell_type": "code",
   "execution_count": 43,
   "metadata": {},
   "outputs": [],
   "source": [
    "examples_file = open(\"output_data_word.txt\", \"w\")"
   ]
  },
  {
   "cell_type": "markdown",
   "metadata": {},
   "source": [
    "### Training the model"
   ]
  },
  {
   "cell_type": "code",
   "execution_count": 44,
   "metadata": {
    "colab": {},
    "colab_type": "code",
    "id": "1yMxsErg3YHU"
   },
   "outputs": [
    {
     "name": "stdout",
     "output_type": "stream",
     "text": [
      "WARNING:tensorflow:From /home/iwonttellyouthat/anaconda3/lib/python3.7/site-packages/tensorflow/python/ops/math_ops.py:3066: to_int32 (from tensorflow.python.ops.math_ops) is deprecated and will be removed in a future version.\n",
      "Instructions for updating:\n",
      "Use tf.cast instead.\n",
      "Epoch 1/10\n",
      "563/563 [==============================] - 8s 13ms/step - loss: 4.8331 - val_loss: 4.8329\n",
      "\n",
      "Epoch 00001: saving model to cp.ckpt\n",
      "Epoch 2/10\n",
      "563/563 [==============================] - 3s 6ms/step - loss: 3.7427 - val_loss: 4.9817\n",
      "\n",
      "Epoch 00002: saving model to cp.ckpt\n",
      "Epoch 3/10\n",
      "563/563 [==============================] - 3s 6ms/step - loss: 2.9499 - val_loss: 5.2889\n",
      "\n",
      "Epoch 00003: saving model to cp.ckpt\n",
      "Epoch 4/10\n",
      "563/563 [==============================] - 3s 6ms/step - loss: 2.4091 - val_loss: 5.6079\n",
      "\n",
      "Epoch 00004: saving model to cp.ckpt\n",
      "Epoch 5/10\n",
      "563/563 [==============================] - 3s 6ms/step - loss: 2.0254 - val_loss: 5.9600\n",
      "\n",
      "Epoch 00005: saving model to cp.ckpt\n",
      "Epoch 6/10\n",
      "563/563 [==============================] - 3s 6ms/step - loss: 1.7568 - val_loss: 6.2764\n",
      "\n",
      "Epoch 00006: saving model to cp.ckpt\n",
      "Epoch 7/10\n",
      "563/563 [==============================] - 3s 6ms/step - loss: 1.5689 - val_loss: 6.4736\n",
      "\n",
      "Epoch 00007: saving model to cp.ckpt\n",
      "Epoch 8/10\n",
      "563/563 [==============================] - 3s 6ms/step - loss: 1.4068 - val_loss: 6.6682\n",
      "\n",
      "Epoch 00008: saving model to cp.ckpt\n",
      "Epoch 9/10\n",
      "563/563 [==============================] - 3s 6ms/step - loss: 1.2784 - val_loss: 6.8494\n",
      "\n",
      "Epoch 00009: saving model to cp.ckpt\n",
      "Epoch 10/10\n",
      "563/563 [==============================] - 3s 6ms/step - loss: 1.1925 - val_loss: 7.0928\n",
      "\n",
      "Epoch 00010: saving model to cp.ckpt\n"
     ]
    }
   ],
   "source": [
    "file_path = \"./checkpoints/LSTM_LYRICS-epoch{epoch:03d}-words%d-sequence%d-minfreq%d-loss{loss:.4f}-acc{acc:.4f}-val_loss{val_loss:.4f}-val_acc{val_acc:.4f}\" % (\n",
    "    len(vocab),\n",
    "    maxlen,\n",
    "    10\n",
    ")\n",
    "checkpoint = ModelCheckpoint(file_path, monitor='val_acc', save_best_only=True)\n",
    "\n",
    "checkpoint_path = \"cp.ckpt\"\n",
    "cp_callback = tf.keras.callbacks.ModelCheckpoint(checkpoint_path, \n",
    "                                                 save_weights_only=True,\n",
    "                                                 verbose=1)\n",
    "\n",
    "print_callback = LambdaCallback(on_epoch_end=on_epoch_end)\n",
    "early_stopping = EarlyStopping(monitor='val_loss', patience=5)\n",
    "callbacks_list = [print_callback, cp_callback]\n",
    "history = model.fit_generator(generator(sentences, next_words, BATCH_SIZE),\n",
    "    steps_per_epoch=int(len(sentences)/BATCH_SIZE) + 1,\n",
    "    epochs=epochs,\n",
    "    validation_data=generator(sentences_test, next_words_test, BATCH_SIZE)\n",
    "                    ,validation_steps=int(len(sentences_test)/BATCH_SIZE) + 1,\n",
    "                   callbacks = callbacks_list)"
   ]
  },
  {
   "cell_type": "markdown",
   "metadata": {},
   "source": [
    "### Closing the output file"
   ]
  },
  {
   "cell_type": "code",
   "execution_count": 45,
   "metadata": {},
   "outputs": [],
   "source": [
    "examples_file.close()"
   ]
  },
  {
   "cell_type": "markdown",
   "metadata": {},
   "source": [
    "### Plotting Train Loss curve"
   ]
  },
  {
   "cell_type": "code",
   "execution_count": 46,
   "metadata": {},
   "outputs": [
    {
     "data": {
      "text/plain": [
       "[<matplotlib.lines.Line2D at 0x7fbc7a77e208>]"
      ]
     },
     "execution_count": 46,
     "metadata": {},
     "output_type": "execute_result"
    },
    {
     "data": {
      "image/png": "[encoded data removed]",
      "text/plain": [
       "<Figure size 432x288 with 1 Axes>"
      ]
     },
     "metadata": {
      "needs_background": "light"
     },
     "output_type": "display_data"
    }
   ],
   "source": [
    "plt.plot(history.history['loss'])"
   ]
  },
  {
   "cell_type": "markdown",
   "metadata": {},
   "source": [
    "### Plotting Validation Loss curve"
   ]
  },
  {
   "cell_type": "code",
   "execution_count": 47,
   "metadata": {},
   "outputs": [
    {
     "data": {
      "text/plain": [
       "[<matplotlib.lines.Line2D at 0x7fbc7a7a0588>]"
      ]
     },
     "execution_count": 47,
     "metadata": {},
     "output_type": "execute_result"
    },
    {
     "data": {
      "image/png": "[encoded data removed]",
      "text/plain": [
       "<Figure size 432x288 with 1 Axes>"
      ]
     },
     "metadata": {
      "needs_background": "light"
     },
     "output_type": "display_data"
    }
   ],
   "source": [
    "plt.plot(history.history['val_loss'])"
   ]
  },
  {
   "cell_type": "markdown",
   "metadata": {},
   "source": [
    "### Saving the model to disk"
   ]
  },
  {
   "cell_type": "code",
   "execution_count": 48,
   "metadata": {
    "colab": {},
    "colab_type": "code",
    "id": "70L9BUE23YHY",
    "outputId": "cc040da6-1b15-487f-c9da-47404be44dcd"
   },
   "outputs": [],
   "source": [
    "model.save('keras_model_word.hdf5')\n",
    "# loaded_model = keras.models.load_model('keras_model_word.hdf5')"
   ]
  },
  {
   "cell_type": "markdown",
   "metadata": {},
   "source": [
    "### Loading the model"
   ]
  },
  {
   "cell_type": "code",
   "execution_count": null,
   "metadata": {},
   "outputs": [],
   "source": [
    "model = keras.models.load_model('keras_model_word.hdf5')"
   ]
  },
  {
   "cell_type": "code",
   "execution_count": 53,
   "metadata": {},
   "outputs": [],
   "source": [
    "def predict_n(seed_line, steps):\n",
    "    '''\n",
    "    function to generate lyrics from a seed line\n",
    "    '''\n",
    "    generated = []\n",
    "    # sent=txt[start_index:start_index+maxlen]\n",
    "    sent = [w for w in seed_line.split()]\n",
    "    generated += sent[-maxlen:]\n",
    "    print(\"#######################\")\n",
    "    print(\"Input - \",\" \".join(generated))\n",
    "    gen = generated\n",
    "    for i in range(steps):\n",
    "        x_sample=generated[i:i+maxlen]\n",
    "        x = np.zeros((1,maxlen,vocab_size))\n",
    "        for k in range(maxlen):\n",
    "            x[0,k,word_ix[x_sample[k]]] = 1\n",
    "        probs = model.predict(x)[0]\n",
    "        next_index = sample(probs, 0.5)\n",
    "        next_word_pred = ix_word[next_index]\n",
    "        generated.append(next_word_pred)\n",
    "    print(\"Generated ############### \")\n",
    "    print(\" \".join(generated))"
   ]
  },
  {
   "cell_type": "code",
   "execution_count": 56,
   "metadata": {},
   "outputs": [],
   "source": [
    "l = \"i broke and fell in your arms in such a way\\nlike a\""
   ]
  },
  {
   "cell_type": "code",
   "execution_count": 58,
   "metadata": {},
   "outputs": [
    {
     "name": "stdout",
     "output_type": "stream",
     "text": [
      "#######################\n",
      "Input -  such a way like a\n",
      "Generated ############### \n",
      "such a way like a few dreams \n",
      " that you are not there \n",
      " you are not there \n",
      " you are not there \n",
      " you are not there \n",
      " you are not there \n",
      " you are not there \n",
      " you are not there \n",
      " you are not that yet you are you in my dreams \n",
      " \n",
      " you are a river \n",
      " you hide in my breaths \n",
      " \n",
      " ill keep you in my eyes \n",
      " ill take care of you in my breaths \n",
      " \n",
      " ill keep you in my eyes \n",
      " ill take care of you in my breaths \n",
      " \n",
      " \n",
      " keep\n"
     ]
    }
   ],
   "source": [
    "predict_n(l,100)"
   ]
  },
  {
   "cell_type": "markdown",
   "metadata": {},
   "source": [
    "### Testing the model"
   ]
  },
  {
   "cell_type": "code",
   "execution_count": null,
   "metadata": {
    "colab": {},
    "colab_type": "code",
    "id": "sssDDxa23YHc"
   },
   "outputs": [],
   "source": [
    "# txt = corpus\n",
    "# start_index = 230\n",
    "for j in range(0, 50, maxlen):\n",
    "#     seed_index = np.random.randint(len(sentences_test))\n",
    "    generated = []\n",
    "    actual = []\n",
    "    # sent=txt[start_index:start_index+maxlen]\n",
    "    sent = sentences_test[j]\n",
    "    generated += sent\n",
    "    actual += sent\n",
    "    print(\"#######################\")\n",
    "    print(\"Input - \",\" \".join(generated))\n",
    "    gen = generated\n",
    "    for i in range(100):\n",
    "        x_sample=generated[i:i+maxlen]\n",
    "        x = np.zeros((1,maxlen,vocab_size))\n",
    "        for k in range(maxlen):\n",
    "            x[0,k,word_ix[x_sample[k]]] = 1\n",
    "        probs = model.predict(x)[0]\n",
    "#         probs = np.reshape(probs,probs.shape[1])\n",
    "#         ix = np.argmax(probs)\n",
    "#         ix=np.random.choice(range(vocab_size),p=probs.ravel())\n",
    "        next_index = sample(probs, 0.5)\n",
    "        next_word_pred = ix_word[next_index]\n",
    "        generated.append(next_word_pred)\n",
    "        actual.append(next_words_test[j+i])\n",
    "    print(\"Actual ###############\")\n",
    "    print(\" \".join(actual))\n",
    "    print()\n",
    "    print(\"Generated ############### \")\n",
    "    print(\" \".join(generated))"
   ]
  }
 ],
 "metadata": {
  "colab": {
   "name": "lyric_generator_by_character.ipynb",
   "provenance": [],
   "version": "0.3.2"
  },
  "kernelspec": {
   "display_name": "Python 3",
   "language": "python",
   "name": "python3"
  },
  "language_info": {
   "codemirror_mode": {
    "name": "ipython",
    "version": 3
   },
   "file_extension": ".py",
   "mimetype": "text/x-python",
   "name": "python",
   "nbconvert_exporter": "python",
   "pygments_lexer": "ipython3",
   "version": "3.7.3"
  }
 },
 "nbformat": 4,
 "nbformat_minor": 1
}
