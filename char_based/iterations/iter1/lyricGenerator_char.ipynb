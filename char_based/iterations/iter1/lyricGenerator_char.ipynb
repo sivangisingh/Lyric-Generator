{
 "cells": [
  {
   "cell_type": "markdown",
   "metadata": {},
   "source": [
    "# Project Name: Lyric Generator\n",
    "Description:\n",
    "Implementing a Deep Neural network using LSTMs to create a character based lyric generator\n",
    "\n",
    "Details:\n",
    "1. step size: 40\n",
    "2. batch size: 128\n",
    "3. Epochs: 100\n",
    "4. Songs: 1000"
   ]
  },
  {
   "cell_type": "markdown",
   "metadata": {},
   "source": [
    "### Importing Libraries"
   ]
  },
  {
   "cell_type": "code",
   "execution_count": 1,
   "metadata": {
    "colab": {},
    "colab_type": "code",
    "id": "Qh1Mk6st3YGX",
    "outputId": "3870d975-28a9-4ec8-d417-b99a60027489"
   },
   "outputs": [
    {
     "name": "stderr",
     "output_type": "stream",
     "text": [
      "Using TensorFlow backend.\n"
     ]
    }
   ],
   "source": [
    "import keras\n",
    "import tensorflow as tf\n",
    "from keras.models import Sequential\n",
    "from keras.models import model_from_json\n",
    "from keras.layers import Activation,LSTM,Dense,CuDNNLSTM\n",
    "from keras.optimizers import Adam\n",
    "import pandas as pd\n",
    "import numpy as np\n",
    "from keras.callbacks import LambdaCallback, ModelCheckpoint, EarlyStopping\n",
    "import os\n",
    "import matplotlib.pyplot as plt\n",
    "np.random.seed(10)"
   ]
  },
  {
   "cell_type": "markdown",
   "metadata": {},
   "source": [
    "### Reading Input\n",
    "Parameters: 10 songs"
   ]
  },
  {
   "cell_type": "code",
   "execution_count": 2,
   "metadata": {},
   "outputs": [],
   "source": [
    "df=pd.read_csv('./songdata.csv')['text'][:1000]\n",
    "data=np.array(df)"
   ]
  },
  {
   "cell_type": "markdown",
   "metadata": {},
   "source": [
    "### Creating corpus(all the characters in all the songs concatenated)\n",
    "1. Converting all the characters to lower"
   ]
  },
  {
   "cell_type": "code",
   "execution_count": 3,
   "metadata": {
    "colab": {},
    "colab_type": "code",
    "id": "9qzGPjvI3YGl"
   },
   "outputs": [],
   "source": [
    "corpus=''\n",
    "for ix in range(len(data)):\n",
    "    corpus+=data[ix]\n",
    "corpus = corpus.lower()"
   ]
  },
  {
   "cell_type": "markdown",
   "metadata": {},
   "source": [
    "### Creating Vocabulary and char, index mappings"
   ]
  },
  {
   "cell_type": "code",
   "execution_count": 4,
   "metadata": {
    "colab": {},
    "colab_type": "code",
    "id": "rho43V-J3YGr"
   },
   "outputs": [],
   "source": [
    "vocab=list(set(corpus))\n",
    "char_ix={c:i for i,c in enumerate(vocab)}\n",
    "ix_char={i:c for i,c in enumerate(vocab)}"
   ]
  },
  {
   "cell_type": "markdown",
   "metadata": {},
   "source": [
    "### Model Parameters"
   ]
  },
  {
   "cell_type": "code",
   "execution_count": 5,
   "metadata": {},
   "outputs": [],
   "source": [
    "BATCH_SIZE = 128\n",
    "maxlen = 40 ##timesteps\n",
    "epochs = 100"
   ]
  },
  {
   "cell_type": "markdown",
   "metadata": {},
   "source": [
    "### Setting up the timesteps"
   ]
  },
  {
   "cell_type": "code",
   "execution_count": 6,
   "metadata": {
    "colab": {},
    "colab_type": "code",
    "id": "FDWiKD1T3YG3"
   },
   "outputs": [
    {
     "name": "stdout",
     "output_type": "stream",
     "text": [
      "50\n",
      "['b', '?', 'p', 'q', '-', 'w', 'u', 'z', '1', '\"', 'h', '2', ',', \"'\", 'l', 'k', 't', '7', 'v', ')', '5', 'd', 'c', '4', 's', ':', 'e', 'x', 'm', '9', '0', '8', ']', 'g', '[', 'r', '3', 'i', 'f', 'n', 'y', ' ', '\\n', '(', 'j', '.', '6', 'a', 'o', '!']\n"
     ]
    }
   ],
   "source": [
    "vocab_size=len(vocab) ##Dimentions of each char\n",
    "print(vocab_size)\n",
    "print(vocab)"
   ]
  },
  {
   "cell_type": "code",
   "execution_count": 7,
   "metadata": {},
   "outputs": [
    {
     "data": {
      "text/plain": [
       "1169216"
      ]
     },
     "execution_count": 7,
     "metadata": {},
     "output_type": "execute_result"
    }
   ],
   "source": [
    "len(corpus)"
   ]
  },
  {
   "cell_type": "markdown",
   "metadata": {},
   "source": [
    "### Creating the train and test datasets"
   ]
  },
  {
   "cell_type": "code",
   "execution_count": 8,
   "metadata": {
    "colab": {},
    "colab_type": "code",
    "id": "X46FgeuG3YG6"
   },
   "outputs": [],
   "source": [
    "sentences=[]\n",
    "next_char=[]\n",
    "for i in range(len(corpus)-maxlen-1):\n",
    "    sentences.append(corpus[i:i+maxlen])\n",
    "    next_char.append(corpus[i+maxlen])\n",
    "split_count = int(0.8 * len(corpus))\n",
    "sentences_test = sentences[split_count:]\n",
    "next_char_test = next_char[split_count:]\n",
    "sentences = sentences[:split_count]\n",
    "next_char = next_char[:split_count]"
   ]
  },
  {
   "cell_type": "code",
   "execution_count": 9,
   "metadata": {},
   "outputs": [],
   "source": [
    "def generator(sentence_list, next_word_list, batch_size):\n",
    "    '''\n",
    "    Generator function to generate the input/output data using\n",
    "    generators concept(to avoid RAM overflow)\n",
    "    '''\n",
    "    index = 0\n",
    "    while True:\n",
    "        x = np.zeros((batch_size, maxlen, vocab_size), dtype=np.bool)\n",
    "        y = np.zeros((batch_size, vocab_size), dtype=np.bool)\n",
    "        for i in range(batch_size):\n",
    "            for t, w in enumerate(sentence_list[index]):\n",
    "                x[i, t, char_ix[w]] = 1\n",
    "            y[i, char_ix[next_word_list[index]]] = 1\n",
    "\n",
    "            index = index + 1\n",
    "            if index == len(sentence_list):\n",
    "                index = 0\n",
    "        yield x, y"
   ]
  },
  {
   "cell_type": "code",
   "execution_count": 10,
   "metadata": {
    "colab": {},
    "colab_type": "code",
    "id": "mGj6PbK-3YHP",
    "scrolled": true
   },
   "outputs": [],
   "source": [
    "def create_model(timesteps, vocab_size):\n",
    "    '''\n",
    "    Creating the model\n",
    "    '''\n",
    "    model=Sequential()\n",
    "    model.add(CuDNNLSTM(128,input_shape=(timesteps,vocab_size)))\n",
    "    model.add(Dense(vocab_size))\n",
    "    model.add(Activation('softmax'))\n",
    "    model.summary()\n",
    "    model.compile(optimizer=Adam(lr=0.01),loss='categorical_crossentropy')\n",
    "    return model"
   ]
  },
  {
   "cell_type": "code",
   "execution_count": 11,
   "metadata": {},
   "outputs": [
    {
     "name": "stdout",
     "output_type": "stream",
     "text": [
      "WARNING:tensorflow:From /home/iwonttellyouthat/anaconda3/lib/python3.7/site-packages/tensorflow/python/framework/op_def_library.py:263: colocate_with (from tensorflow.python.framework.ops) is deprecated and will be removed in a future version.\n",
      "Instructions for updating:\n",
      "Colocations handled automatically by placer.\n",
      "_________________________________________________________________\n",
      "Layer (type)                 Output Shape              Param #   \n",
      "=================================================================\n",
      "cu_dnnlstm_1 (CuDNNLSTM)     (None, 128)               92160     \n",
      "_________________________________________________________________\n",
      "dense_1 (Dense)              (None, 50)                6450      \n",
      "_________________________________________________________________\n",
      "activation_1 (Activation)    (None, 50)                0         \n",
      "=================================================================\n",
      "Total params: 98,610\n",
      "Trainable params: 98,610\n",
      "Non-trainable params: 0\n",
      "_________________________________________________________________\n"
     ]
    }
   ],
   "source": [
    "model = create_model(maxlen, vocab_size)"
   ]
  },
  {
   "cell_type": "code",
   "execution_count": 12,
   "metadata": {},
   "outputs": [],
   "source": [
    "def sample(preds, temperature=1.0):\n",
    "    # helper function to sample an index from a probability array\n",
    "    preds = np.asarray(preds).astype('float64')\n",
    "    preds = np.log(preds) / temperature\n",
    "    exp_preds = np.exp(preds)\n",
    "    preds = exp_preds / np.sum(exp_preds)\n",
    "    probas = np.random.multinomial(1, preds, 1)\n",
    "    return np.argmax(probas)\n",
    "\n",
    "def on_epoch_end(epoch, logs):\n",
    "    '''\n",
    "    Callback function to write output to file after each epoch\n",
    "    '''\n",
    "    # Function invoked at end of each epoch. Prints generated text.\n",
    "    examples_file.write('\\n----- Generating text after Epoch: %d\\n' % epoch)\n",
    "\n",
    "    # Randomly pick a seed sequence\n",
    "    seed_index = np.random.randint(len(sentences+sentences_test))\n",
    "    seed = (sentences+sentences_test)[seed_index]\n",
    "\n",
    "    for diversity in [1]:#[0.3, 0.4, 0.5, 0.6, 0.7]:\n",
    "        sentence = seed\n",
    "        examples_file.write('----- Diversity:' + str(diversity) + '\\n')\n",
    "        examples_file.write('----- Generating with seed:\\n\"' + ' '.join(sentence) + '\"\\n')\n",
    "        examples_file.write(' '.join(sentence))\n",
    "\n",
    "        for i in range(50):\n",
    "            x_pred = np.zeros((1, maxlen, vocab_size))\n",
    "            for t, word in enumerate(sentence):\n",
    "                x_pred[0, t,char_ix[word]] = 1\n",
    "\n",
    "            preds = model.predict(x_pred, verbose=0)[0]\n",
    "            next_index = sample(preds, diversity)\n",
    "            next_char_pred = ix_char[next_index]\n",
    "\n",
    "            sentence = sentence[1:]\n",
    "#             print(sentence)\n",
    "            sentence += next_char_pred\n",
    "\n",
    "            examples_file.write(\" \"+next_char_pred)\n",
    "        examples_file.write('\\n')\n",
    "    examples_file.write('='*80 + '\\n')\n",
    "#     examples_file.flush()"
   ]
  },
  {
   "cell_type": "markdown",
   "metadata": {},
   "source": [
    "### Opening the output file"
   ]
  },
  {
   "cell_type": "code",
   "execution_count": 13,
   "metadata": {},
   "outputs": [],
   "source": [
    "examples_file = open(\"output_data.txt\", \"w\")"
   ]
  },
  {
   "cell_type": "markdown",
   "metadata": {},
   "source": [
    "### Training the model"
   ]
  },
  {
   "cell_type": "code",
   "execution_count": 14,
   "metadata": {
    "colab": {},
    "colab_type": "code",
    "id": "1yMxsErg3YHU"
   },
   "outputs": [
    {
     "name": "stdout",
     "output_type": "stream",
     "text": [
      "WARNING:tensorflow:From /home/iwonttellyouthat/anaconda3/lib/python3.7/site-packages/tensorflow/python/ops/math_ops.py:3066: to_int32 (from tensorflow.python.ops.math_ops) is deprecated and will be removed in a future version.\n",
      "Instructions for updating:\n",
      "Use tf.cast instead.\n",
      "Epoch 1/100\n",
      "7308/7308 [==============================] - 71s 10ms/step - loss: 1.5997 - val_loss: 1.5720\n",
      "Epoch 2/100\n",
      "7308/7308 [==============================] - 48s 7ms/step - loss: 1.4158 - val_loss: 1.5156\n",
      "Epoch 3/100\n",
      "7308/7308 [==============================] - 48s 7ms/step - loss: 1.3737 - val_loss: 1.4958\n",
      "Epoch 4/100\n",
      "7308/7308 [==============================] - 46s 6ms/step - loss: 1.3506 - val_loss: 1.4869\n",
      "Epoch 5/100\n",
      "7308/7308 [==============================] - 47s 6ms/step - loss: 1.3354 - val_loss: 1.4771\n",
      "Epoch 6/100\n",
      "7308/7308 [==============================] - 48s 7ms/step - loss: 1.3244 - val_loss: 1.4735\n",
      "Epoch 7/100\n",
      "7308/7308 [==============================] - 48s 7ms/step - loss: 1.3169 - val_loss: 1.4639\n",
      "Epoch 8/100\n",
      "7308/7308 [==============================] - 48s 7ms/step - loss: 1.3105 - val_loss: 1.4638\n",
      "Epoch 9/100\n",
      "7308/7308 [==============================] - 48s 7ms/step - loss: 1.3065 - val_loss: 1.4640\n",
      "Epoch 10/100\n",
      "7308/7308 [==============================] - 48s 7ms/step - loss: 1.3093 - val_loss: 1.4568\n",
      "Epoch 11/100\n",
      "7308/7308 [==============================] - 46s 6ms/step - loss: 1.2981 - val_loss: 1.4561\n",
      "Epoch 12/100\n",
      "7308/7308 [==============================] - 46s 6ms/step - loss: 1.2960 - val_loss: 1.4495\n",
      "Epoch 13/100\n",
      "7308/7308 [==============================] - 48s 7ms/step - loss: 1.2965 - val_loss: 1.4520\n",
      "Epoch 14/100\n",
      "7308/7308 [==============================] - 46s 6ms/step - loss: 1.2924 - val_loss: 1.4537\n",
      "Epoch 15/100\n",
      "7308/7308 [==============================] - 48s 7ms/step - loss: 1.2902 - val_loss: 1.4475\n",
      "Epoch 16/100\n",
      "7308/7308 [==============================] - 48s 7ms/step - loss: 1.2851 - val_loss: 1.4499\n",
      "Epoch 17/100\n",
      "7308/7308 [==============================] - 48s 7ms/step - loss: 1.2860 - val_loss: 1.4487\n",
      "Epoch 18/100\n",
      "7308/7308 [==============================] - 48s 7ms/step - loss: 1.2864 - val_loss: 1.4552\n",
      "Epoch 19/100\n",
      "  21/7308 [..............................] - ETA: 37s - loss: 1.2106"
     ]
    },
    {
     "name": "stderr",
     "output_type": "stream",
     "text": [
      "/home/iwonttellyouthat/anaconda3/lib/python3.7/site-packages/ipykernel_launcher.py:4: RuntimeWarning: divide by zero encountered in log\n",
      "  after removing the cwd from sys.path.\n"
     ]
    },
    {
     "name": "stdout",
     "output_type": "stream",
     "text": [
      "7308/7308 [==============================] - 46s 6ms/step - loss: 1.3147 - val_loss: 1.4492\n",
      "Epoch 20/100\n",
      "7308/7308 [==============================] - 48s 7ms/step - loss: 1.3609 - val_loss: 1.4663\n",
      "Epoch 21/100\n",
      "7308/7308 [==============================] - 48s 7ms/step - loss: 1.3018 - val_loss: 1.4644\n",
      "Epoch 22/100\n",
      "7308/7308 [==============================] - 49s 7ms/step - loss: 1.2921 - val_loss: 1.4544\n",
      "Epoch 23/100\n",
      "7308/7308 [==============================] - 49s 7ms/step - loss: 1.3048 - val_loss: 1.4497\n",
      "Epoch 24/100\n",
      "7308/7308 [==============================] - 48s 7ms/step - loss: 1.2875 - val_loss: 1.4492\n",
      "Epoch 25/100\n",
      "7308/7308 [==============================] - 48s 7ms/step - loss: 1.3258 - val_loss: 1.4508\n",
      "Epoch 26/100\n",
      "7308/7308 [==============================] - 48s 7ms/step - loss: 1.3122 - val_loss: 1.4530\n",
      "Epoch 27/100\n",
      "7308/7308 [==============================] - 48s 7ms/step - loss: 1.2900 - val_loss: 1.4494\n",
      "Epoch 28/100\n",
      "7308/7308 [==============================] - 49s 7ms/step - loss: 1.2882 - val_loss: 1.4593\n",
      "Epoch 29/100\n",
      "7308/7308 [==============================] - 48s 7ms/step - loss: 1.2851 - val_loss: 1.4437\n",
      "Epoch 30/100\n",
      "7308/7308 [==============================] - 47s 6ms/step - loss: 1.2845 - val_loss: 1.4537\n",
      "Epoch 31/100\n",
      "7308/7308 [==============================] - 48s 7ms/step - loss: 1.3953 - val_loss: 1.4883\n",
      "Epoch 32/100\n",
      "7308/7308 [==============================] - 47s 6ms/step - loss: 2.2926 - val_loss: 2.6010\n",
      "Epoch 33/100\n",
      "7308/7308 [==============================] - 48s 7ms/step - loss: 2.5545 - val_loss: 2.6325\n",
      "Epoch 34/100\n",
      "7308/7308 [==============================] - 48s 7ms/step - loss: 2.5926 - val_loss: 2.7181\n",
      "Epoch 35/100\n",
      "7308/7308 [==============================] - 48s 7ms/step - loss: 2.6657 - val_loss: 2.7368\n",
      "Epoch 36/100\n",
      "7308/7308 [==============================] - 48s 7ms/step - loss: 2.6836 - val_loss: 2.7408\n",
      "Epoch 37/100\n",
      "7308/7308 [==============================] - 47s 6ms/step - loss: 2.6950 - val_loss: 2.7663\n",
      "Epoch 38/100\n",
      "7308/7308 [==============================] - 48s 7ms/step - loss: 2.7184 - val_loss: 2.7706\n",
      "Epoch 39/100\n",
      "7308/7308 [==============================] - 47s 6ms/step - loss: 2.7075 - val_loss: 2.7583\n",
      "Epoch 40/100\n",
      "7308/7308 [==============================] - 47s 6ms/step - loss: 2.6989 - val_loss: 2.7705\n",
      "Epoch 41/100\n",
      "7308/7308 [==============================] - 48s 7ms/step - loss: 2.7093 - val_loss: 2.7866\n",
      "Epoch 42/100\n",
      "7308/7308 [==============================] - 48s 7ms/step - loss: 2.7085 - val_loss: 2.7579\n",
      "Epoch 43/100\n",
      "7308/7308 [==============================] - 47s 6ms/step - loss: 2.7062 - val_loss: 2.7955\n",
      "Epoch 44/100\n",
      "7308/7308 [==============================] - 48s 7ms/step - loss: 2.7154 - val_loss: 2.7751\n",
      "Epoch 45/100\n",
      "7308/7308 [==============================] - 47s 6ms/step - loss: 2.7062 - val_loss: 2.7694\n",
      "Epoch 46/100\n",
      "7308/7308 [==============================] - 48s 7ms/step - loss: 2.7086 - val_loss: 2.7752\n",
      "Epoch 47/100\n",
      "7308/7308 [==============================] - 49s 7ms/step - loss: 2.7172 - val_loss: 2.7877\n",
      "Epoch 48/100\n",
      "7308/7308 [==============================] - 48s 7ms/step - loss: 2.7407 - val_loss: 2.8075\n",
      "Epoch 49/100\n",
      "7308/7308 [==============================] - 47s 6ms/step - loss: 2.7480 - val_loss: 2.8131\n",
      "Epoch 50/100\n",
      "7308/7308 [==============================] - 47s 6ms/step - loss: 2.7560 - val_loss: 2.8253\n",
      "Epoch 51/100\n",
      "7308/7308 [==============================] - 48s 7ms/step - loss: 2.7597 - val_loss: 2.8273\n",
      "Epoch 52/100\n",
      "7308/7308 [==============================] - 49s 7ms/step - loss: 2.7726 - val_loss: 2.8354\n",
      "Epoch 53/100\n",
      "7308/7308 [==============================] - 49s 7ms/step - loss: 2.7713 - val_loss: 2.8405\n",
      "Epoch 54/100\n",
      "7308/7308 [==============================] - 48s 7ms/step - loss: 2.7728 - val_loss: 2.8326\n",
      "Epoch 55/100\n",
      "7308/7308 [==============================] - 48s 7ms/step - loss: 2.7798 - val_loss: 2.8520\n",
      "Epoch 56/100\n",
      "7308/7308 [==============================] - 46s 6ms/step - loss: 2.7765 - val_loss: 2.8457\n",
      "Epoch 57/100\n",
      "7308/7308 [==============================] - 47s 6ms/step - loss: 2.7739 - val_loss: 2.8470\n",
      "Epoch 58/100\n",
      "7308/7308 [==============================] - 45s 6ms/step - loss: 2.7688 - val_loss: 2.8387\n",
      "Epoch 59/100\n",
      "7308/7308 [==============================] - 47s 6ms/step - loss: 2.7776 - val_loss: 2.8599\n",
      "Epoch 60/100\n",
      "7308/7308 [==============================] - 48s 7ms/step - loss: 2.7791 - val_loss: 2.8535\n",
      "Epoch 61/100\n",
      "7308/7308 [==============================] - 47s 6ms/step - loss: 2.7858 - val_loss: 2.8529\n",
      "Epoch 62/100\n",
      "7308/7308 [==============================] - 48s 7ms/step - loss: 2.7697 - val_loss: 2.8422\n",
      "Epoch 63/100\n",
      "7308/7308 [==============================] - 46s 6ms/step - loss: 2.7698 - val_loss: 2.8514\n",
      "Epoch 64/100\n",
      "7308/7308 [==============================] - 47s 6ms/step - loss: 2.7687 - val_loss: 2.8436\n",
      "Epoch 65/100\n",
      "7308/7308 [==============================] - 47s 6ms/step - loss: 2.7595 - val_loss: 2.8443\n",
      "Epoch 66/100\n",
      "7308/7308 [==============================] - 46s 6ms/step - loss: 2.7800 - val_loss: 2.8714\n",
      "Epoch 67/100\n",
      "7308/7308 [==============================] - 48s 7ms/step - loss: 2.7953 - val_loss: 2.8926\n",
      "Epoch 68/100\n",
      "7308/7308 [==============================] - 48s 7ms/step - loss: 2.7976 - val_loss: 2.8962\n",
      "Epoch 69/100\n",
      "7308/7308 [==============================] - 47s 6ms/step - loss: 2.8125 - val_loss: 2.9189\n",
      "Epoch 70/100\n",
      "7308/7308 [==============================] - 48s 7ms/step - loss: 2.8301 - val_loss: 2.9194\n",
      "Epoch 71/100\n",
      "7308/7308 [==============================] - 48s 7ms/step - loss: 2.8428 - val_loss: 2.9232\n",
      "Epoch 72/100\n",
      "7308/7308 [==============================] - 48s 7ms/step - loss: 2.8332 - val_loss: 2.9174\n",
      "Epoch 73/100\n",
      "7308/7308 [==============================] - 48s 7ms/step - loss: 2.8334 - val_loss: 2.9323\n",
      "Epoch 74/100\n",
      "7308/7308 [==============================] - 48s 7ms/step - loss: 2.8230 - val_loss: 2.9110\n",
      "Epoch 75/100\n",
      "7308/7308 [==============================] - 48s 7ms/step - loss: 2.8256 - val_loss: 2.8873\n",
      "Epoch 76/100\n",
      "7308/7308 [==============================] - 46s 6ms/step - loss: 2.8246 - val_loss: 2.9140\n",
      "Epoch 77/100\n",
      "7308/7308 [==============================] - 47s 6ms/step - loss: 2.8415 - val_loss: 2.9186\n",
      "Epoch 78/100\n",
      "7308/7308 [==============================] - 46s 6ms/step - loss: 2.8527 - val_loss: 2.9373\n",
      "Epoch 79/100\n",
      "7308/7308 [==============================] - 48s 7ms/step - loss: 2.8664 - val_loss: 2.9485\n",
      "Epoch 80/100\n",
      "7308/7308 [==============================] - 47s 6ms/step - loss: 2.8774 - val_loss: 2.9584\n",
      "Epoch 81/100\n",
      "7308/7308 [==============================] - 48s 7ms/step - loss: 2.8820 - val_loss: 2.9582\n",
      "Epoch 82/100\n",
      "7308/7308 [==============================] - 48s 7ms/step - loss: 2.8820 - val_loss: 2.9596\n",
      "Epoch 83/100\n",
      "7308/7308 [==============================] - 46s 6ms/step - loss: 2.8829 - val_loss: 2.9559\n",
      "Epoch 84/100\n",
      "7308/7308 [==============================] - 48s 7ms/step - loss: 2.8844 - val_loss: 2.9541\n",
      "Epoch 85/100\n",
      "7308/7308 [==============================] - 48s 7ms/step - loss: 2.8819 - val_loss: 2.9524\n",
      "Epoch 86/100\n",
      "7308/7308 [==============================] - 48s 7ms/step - loss: 2.8828 - val_loss: 2.9514\n",
      "Epoch 87/100\n",
      "7308/7308 [==============================] - 48s 7ms/step - loss: 2.8791 - val_loss: 2.9472\n",
      "Epoch 88/100\n",
      "7308/7308 [==============================] - 48s 7ms/step - loss: 2.8775 - val_loss: 2.9409\n",
      "Epoch 89/100\n",
      "7308/7308 [==============================] - 48s 7ms/step - loss: 2.8782 - val_loss: 2.9479\n",
      "Epoch 90/100\n",
      "7308/7308 [==============================] - 48s 7ms/step - loss: 2.8808 - val_loss: 2.9497\n",
      "Epoch 91/100\n",
      "7308/7308 [==============================] - 48s 7ms/step - loss: 2.8861 - val_loss: 2.9511\n",
      "Epoch 92/100\n",
      "7308/7308 [==============================] - 48s 7ms/step - loss: 2.8853 - val_loss: 2.9496\n",
      "Epoch 93/100\n",
      "7308/7308 [==============================] - 48s 7ms/step - loss: 2.8881 - val_loss: 2.9548\n",
      "Epoch 94/100\n",
      "7308/7308 [==============================] - 48s 7ms/step - loss: 2.8877 - val_loss: 2.9516\n",
      "Epoch 95/100\n",
      "7308/7308 [==============================] - 47s 6ms/step - loss: 2.8887 - val_loss: 2.9588\n",
      "Epoch 96/100\n",
      "7308/7308 [==============================] - 48s 7ms/step - loss: 2.8897 - val_loss: 2.9586\n",
      "Epoch 97/100\n"
     ]
    },
    {
     "name": "stdout",
     "output_type": "stream",
     "text": [
      "7308/7308 [==============================] - 47s 6ms/step - loss: 2.8934 - val_loss: 2.9649\n",
      "Epoch 98/100\n",
      "7308/7308 [==============================] - 46s 6ms/step - loss: 2.8939 - val_loss: 2.9614\n",
      "Epoch 99/100\n",
      "7308/7308 [==============================] - 48s 7ms/step - loss: 2.8909 - val_loss: 2.9585\n",
      "Epoch 100/100\n",
      "7308/7308 [==============================] - 48s 7ms/step - loss: 2.8922 - val_loss: 2.9617\n"
     ]
    }
   ],
   "source": [
    "file_path = \"./checkpoints/LSTM_LYRICS-epoch{epoch:03d}-words%d-sequence%d-minfreq%d-loss{loss:.4f}-acc{acc:.4f}-val_loss{val_loss:.4f}-val_acc{val_acc:.4f}\" % (\n",
    "    len(vocab),\n",
    "    maxlen,\n",
    "    10\n",
    ")\n",
    "checkpoint = ModelCheckpoint(file_path, monitor='val_acc', save_best_only=True)\n",
    "\n",
    "checkpoint_path = \"cp.ckpt\"\n",
    "cp_callback = tf.keras.callbacks.ModelCheckpoint(checkpoint_path, \n",
    "                                                 save_weights_only=True,\n",
    "                                                 verbose=1)\n",
    "\n",
    "print_callback = LambdaCallback(on_epoch_end=on_epoch_end)\n",
    "early_stopping = EarlyStopping(monitor='val_acc', patience=5)\n",
    "callbacks_list = [print_callback]\n",
    "history = model.fit_generator(generator(sentences, next_char, BATCH_SIZE),\n",
    "    steps_per_epoch=int(len(sentences)/BATCH_SIZE) + 1,\n",
    "    epochs=epochs,\n",
    "    validation_data=generator(sentences_test, next_char_test, BATCH_SIZE)\n",
    "                    ,validation_steps=int(len(sentences_test)/BATCH_SIZE) + 1,\n",
    "                   callbacks = callbacks_list)"
   ]
  },
  {
   "cell_type": "markdown",
   "metadata": {},
   "source": [
    "### Closing the output file"
   ]
  },
  {
   "cell_type": "code",
   "execution_count": 15,
   "metadata": {},
   "outputs": [],
   "source": [
    "examples_file.close()"
   ]
  },
  {
   "cell_type": "markdown",
   "metadata": {},
   "source": [
    "### Plotting Train Loss curve"
   ]
  },
  {
   "cell_type": "code",
   "execution_count": 16,
   "metadata": {},
   "outputs": [
    {
     "data": {
      "text/plain": [
       "[<matplotlib.lines.Line2D at 0x7fca48503748>]"
      ]
     },
     "execution_count": 16,
     "metadata": {},
     "output_type": "execute_result"
    },
    {
     "data": {
      "image/png": "[encoded data removed]",
      "text/plain": [
       "<Figure size 432x288 with 1 Axes>"
      ]
     },
     "metadata": {
      "needs_background": "light"
     },
     "output_type": "display_data"
    }
   ],
   "source": [
    "plt.plot(history.history['loss'])"
   ]
  },
  {
   "cell_type": "markdown",
   "metadata": {},
   "source": [
    "### Plotting Validation Loss curve"
   ]
  },
  {
   "cell_type": "code",
   "execution_count": 17,
   "metadata": {},
   "outputs": [
    {
     "data": {
      "text/plain": [
       "[<matplotlib.lines.Line2D at 0x7fca4a4e7400>]"
      ]
     },
     "execution_count": 17,
     "metadata": {},
     "output_type": "execute_result"
    },
    {
     "data": {
      "image/png": "[encoded data removed]",
      "text/plain": [
       "<Figure size 432x288 with 1 Axes>"
      ]
     },
     "metadata": {
      "needs_background": "light"
     },
     "output_type": "display_data"
    }
   ],
   "source": [
    "plt.plot(history.history['val_loss'])"
   ]
  },
  {
   "cell_type": "markdown",
   "metadata": {},
   "source": [
    "### Saving the model to disk"
   ]
  },
  {
   "cell_type": "code",
   "execution_count": 18,
   "metadata": {
    "colab": {},
    "colab_type": "code",
    "id": "70L9BUE23YHY",
    "outputId": "cc040da6-1b15-487f-c9da-47404be44dcd"
   },
   "outputs": [],
   "source": [
    "model.save('keras_model.hdf5')\n",
    "#loaded_model = keras.models.load_model('keras_model.hdf5')"
   ]
  },
  {
   "cell_type": "code",
   "execution_count": 19,
   "metadata": {},
   "outputs": [],
   "source": [
    "fig, ax = plt.subplots( nrows=1, ncols=1 )  # create figure & 1 axis\n",
    "ax.plot(history.history['val_loss'])\n",
    "fig.savefig('./Train_loss.png')   # save the figure to file\n",
    "plt.close(fig)    # close the figure"
   ]
  },
  {
   "cell_type": "code",
   "execution_count": 20,
   "metadata": {},
   "outputs": [],
   "source": [
    "fig, ax = plt.subplots( nrows=1, ncols=1 )  # create figure & 1 axis\n",
    "ax.plot(history.history['loss'])\n",
    "fig.savefig('./Validation_loss.png')   # save the figure to file\n",
    "plt.close(fig)    # close the figure"
   ]
  },
  {
   "cell_type": "markdown",
   "metadata": {},
   "source": [
    "### Loading the model"
   ]
  },
  {
   "cell_type": "code",
   "execution_count": 21,
   "metadata": {},
   "outputs": [],
   "source": [
    "#loaded_model = keras.models.load_model('keras_model.hdf5')"
   ]
  },
  {
   "cell_type": "code",
   "execution_count": 22,
   "metadata": {},
   "outputs": [],
   "source": [
    "def sample(preds, temperature=1.0):\n",
    "    '''\n",
    "    Function to sample a character from the a given\n",
    "    list of probs\n",
    "    '''\n",
    "    # helper function to sample an index from a probability array\n",
    "    preds = np.asarray(preds).astype('float64')\n",
    "    preds = np.log(preds) / temperature\n",
    "    exp_preds = np.exp(preds)\n",
    "    preds = exp_preds / np.sum(exp_preds)\n",
    "    probas = np.random.multinomial(1, preds, 1)\n",
    "    return np.argmax(probas)"
   ]
  },
  {
   "cell_type": "markdown",
   "metadata": {},
   "source": [
    "### Testing the model"
   ]
  },
  {
   "cell_type": "code",
   "execution_count": 23,
   "metadata": {
    "colab": {},
    "colab_type": "code",
    "id": "sssDDxa23YHc"
   },
   "outputs": [
    {
     "name": "stdout",
     "output_type": "stream",
     "text": [
      "Input -    \n",
      "you got yourself a place and i got mi\n"
     ]
    }
   ],
   "source": [
    "# txt = corpus\n",
    "# start_index = 230\n",
    "\n",
    "generated = ''\n",
    "actual = ''\n",
    "# sent=txt[start_index:start_index+maxlen]\n",
    "sent = sentences_test[0]\n",
    "generated += sent\n",
    "actual += sent\n",
    "print(\"Input - \",generated)\n",
    "gen = generated\n",
    "for i in range(100):\n",
    "    x_sample=generated[i:i+maxlen]\n",
    "    x = np.zeros((1,maxlen,vocab_size))\n",
    "    for j in range(maxlen):\n",
    "        x[0,j,char_ix[x_sample[j]]] = 1\n",
    "    probs = model.predict(x)\n",
    "    probs = np.reshape(probs,probs.shape[1])\n",
    "    ix = np.argmax(probs)\n",
    "#     ix=np.random.choice(range(vocab_size),p=probs.ravel())\n",
    "    generated += ix_char[ix]\n",
    "    actual += next_char_test[i]\n",
    "# for i in range(100):\n",
    "#     x_sample=gen[i:i+maxlen]\n",
    "#     x=np.zeros((1,maxlen,vocab_size))\n",
    "#     for j in range(maxlen):\n",
    "#         x[0,j,char_ix[x_sample[j]]]=1\n",
    "#     probs=loaded_model.predict(x)[0]\n",
    "#     ix = np.argmax(probs)\n",
    "# #     ix=np.random.choice(range(vocab_size),p=probs.ravel())\n",
    "#     gen+=ix_char[ix]\n",
    "# # print(\"--------------\")"
   ]
  },
  {
   "cell_type": "code",
   "execution_count": 24,
   "metadata": {},
   "outputs": [
    {
     "name": "stdout",
     "output_type": "stream",
     "text": [
      "Generated - \n",
      "  \n",
      "you got yourself a place and i got mi              \n",
      "   \n",
      "      \n",
      "  \n",
      "\n",
      "     \n",
      "          a  \n",
      "        a            \n",
      "     \n",
      "     n   \n",
      "  \n",
      "     \n",
      "e  \n",
      "\n",
      "Actual -\n",
      "  \n",
      "you got yourself a place and i got mine  \n",
      "we been here waitin' since the clock struck nine  \n",
      "down in the unemployment line  \n",
      "now every da\n"
     ]
    }
   ],
   "source": [
    "print(\"Generated - \")\n",
    "print(generated)\n",
    "print()\n",
    "print(\"Actual -\")\n",
    "print(actual)"
   ]
  },
  {
   "cell_type": "markdown",
   "metadata": {},
   "source": [
    "### Credits"
   ]
  },
  {
   "cell_type": "code",
   "execution_count": null,
   "metadata": {},
   "outputs": [],
   "source": []
  }
 ],
 "metadata": {
  "colab": {
   "name": "lyric_generator_by_character.ipynb",
   "provenance": [],
   "version": "0.3.2"
  },
  "kernelspec": {
   "display_name": "Python 3",
   "language": "python",
   "name": "python3"
  },
  "language_info": {
   "codemirror_mode": {
    "name": "ipython",
    "version": 3
   },
   "file_extension": ".py",
   "mimetype": "text/x-python",
   "name": "python",
   "nbconvert_exporter": "python",
   "pygments_lexer": "ipython3",
   "version": "3.7.3"
  }
 },
 "nbformat": 4,
 "nbformat_minor": 1
}
