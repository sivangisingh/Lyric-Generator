{
 "cells": [
  {
   "cell_type": "markdown",
   "metadata": {},
   "source": [
    "# Project Name: Lyric Generator\n",
    "Description:\n",
    "Implementing a Deep Neural network using LSTMs to create a character based lyric generator\n",
    "\n",
    "Details:\n",
    "1. step size: 40\n",
    "2. batch size: 128\n",
    "3. Epochs: 100\n",
    "4. Songs: 1000"
   ]
  },
  {
   "cell_type": "markdown",
   "metadata": {},
   "source": [
    "### Importing Libraries"
   ]
  },
  {
   "cell_type": "code",
   "execution_count": 160,
   "metadata": {
    "colab": {},
    "colab_type": "code",
    "id": "Qh1Mk6st3YGX",
    "outputId": "3870d975-28a9-4ec8-d417-b99a60027489"
   },
   "outputs": [],
   "source": [
    "import keras\n",
    "import tensorflow as tf\n",
    "from keras.models import Sequential\n",
    "from keras.models import model_from_json\n",
    "from keras.layers import Activation,LSTM,Dense,CuDNNLSTM, Flatten, Bidirectional, Dropout\n",
    "from keras.optimizers import Adam\n",
    "import pandas as pd\n",
    "import numpy as np\n",
    "from keras.callbacks import LambdaCallback, ModelCheckpoint, EarlyStopping\n",
    "import os\n",
    "import matplotlib.pyplot as plt\n",
    "np.random.seed(10)"
   ]
  },
  {
   "cell_type": "markdown",
   "metadata": {},
   "source": [
    "### Design Parameters"
   ]
  },
  {
   "cell_type": "code",
   "execution_count": 124,
   "metadata": {},
   "outputs": [],
   "source": [
    "BATCH_SIZE = 32\n",
    "maxlen = 10 ##timesteps\n",
    "epochs = 30\n",
    "MIN_WORD_FREQUENCY = 10\n",
    "song_count = 1000"
   ]
  },
  {
   "cell_type": "code",
   "execution_count": 125,
   "metadata": {},
   "outputs": [],
   "source": [
    "def load_lyrics(path):\n",
    "    '''\n",
    "    Function to load lyrics of all the artists in the input path\n",
    "    '''\n",
    "    lyrics = \"\"\n",
    "    for fn in os.listdir(path):\n",
    "        with open(os.path.join(path, fn), 'r') as song:\n",
    "            song_lyrics = clean_string(song.read())\n",
    "            lyrics += song_lyrics\n",
    "    return lyrics\n",
    "\n",
    "def clean_string(string):\n",
    "    \"\"\"\n",
    "    Cleans unwanted characters and words from string.\n",
    "    @param string: The string to be cleaned.\n",
    "    @return: The cleaned string.\n",
    "    \"\"\"\n",
    "    string = string.lower()  # lowercase\n",
    "\n",
    "    clean_words = []\n",
    "    for word in string.split():\n",
    "        # clean words with quotation marks on only one side\n",
    "        if word[0] == '\"' and word[-1] != '\"':\n",
    "            word = word[1:]\n",
    "        elif word[-1] == '\"' and word[0] != '\"':\n",
    "            word = word[-1]\n",
    "\n",
    "        # clean words with parenthases on only one side\n",
    "        if word[0] == '(' and word[-1] != ')':\n",
    "            word = word[1:]\n",
    "        elif word[-1] == ')' and word[0] != '(':\n",
    "            word = word[:-1]\n",
    "\n",
    "        clean_words.append(word)\n",
    "    return ' '.join(clean_words)"
   ]
  },
  {
   "cell_type": "markdown",
   "metadata": {},
   "source": [
    "### Reading Input\n",
    "Parameters: 10 songs"
   ]
  },
  {
   "cell_type": "code",
   "execution_count": 126,
   "metadata": {},
   "outputs": [],
   "source": [
    "## Reading the scraped Rap songs\n",
    "text = load_lyrics(\"./RapLyrics-Scraper/my_lyrics_folder/\")"
   ]
  },
  {
   "cell_type": "code",
   "execution_count": 127,
   "metadata": {},
   "outputs": [],
   "source": [
    "## Reading the kaggle input ~55k songs\n",
    "df=pd.read_csv('./songdata.csv')['text'][:song_count]\n",
    "data=np.array(df)"
   ]
  },
  {
   "cell_type": "code",
   "execution_count": 77,
   "metadata": {},
   "outputs": [],
   "source": [
    "## Reading the scraped pink floyed songs\n",
    "df=pd.read_csv('./pink_floyd_lyrics.csv',header=0, error_bad_lines=False, delimiter='\\t')['text']\n",
    "df = df.fillna('')\n",
    "data=np.array(df)"
   ]
  },
  {
   "cell_type": "code",
   "execution_count": 78,
   "metadata": {},
   "outputs": [
    {
     "data": {
      "text/plain": [
       "\"I took my troubles down to Madame Rue.\\nYou know that gypsy with the gold capped tooth\\nShe's got a pad down on 34th and Vine,\\nSelling little bottles of Love Potion #9.\\nI told her that I was a flop with chicks.\\nI've been disgraced since 1956.\\nShe looked at my palm and she made a magic sign.\\nShe said what you need is Love Potion #9.\\nShe bent down and turned around and gave me a wink.\\nShe said I'm gonna make it up right here in the sink.\\nIt smelled like turpentine, and looked like Indian ink.\\nI held my nose, I closed my eyes, I took a drink!\\nI didn't know if it was day or night.\\nI started kissing everything in sight.\\nBut when I kissed a cop down on 34th and Vine.\\nHe broke my little bottle of Love Potion #9.\\n(instrumental)\\nI held my nose, I closed my eyes, I took a drink!\\nI didn't know if it was day or night.\\nI started kissing everything in sight.\\nBut when I kissed a cop down on 34th and Vine.\\nHe broke my little bottle of Love Potion #9.\\nLove Potion #9...\\nLove Potion #9...\\nLove Potion #9...\""
      ]
     },
     "execution_count": 78,
     "metadata": {},
     "output_type": "execute_result"
    }
   ],
   "source": [
    "data[1]"
   ]
  },
  {
   "cell_type": "code",
   "execution_count": null,
   "metadata": {},
   "outputs": [],
   "source": []
  },
  {
   "cell_type": "markdown",
   "metadata": {},
   "source": [
    "### Creating corpus(all the characters in all the songs concatenated)\n",
    "1. Converting all the characters to lower"
   ]
  },
  {
   "cell_type": "code",
   "execution_count": 128,
   "metadata": {
    "colab": {},
    "colab_type": "code",
    "id": "9qzGPjvI3YGl"
   },
   "outputs": [
    {
     "name": "stdout",
     "output_type": "stream",
     "text": [
      "Corpus length in words: 449300\n"
     ]
    }
   ],
   "source": [
    "# text=''\n",
    "# for ix in range(len(data)):\n",
    "#     text+=data[ix]\n",
    "text = text.lower()\n",
    "corpus = [w for w in text.split(' ') if w.strip() != '' or w == '\\n']\n",
    "print('Corpus length in words:', len(corpus))"
   ]
  },
  {
   "cell_type": "markdown",
   "metadata": {},
   "source": [
    "### Filtering vocabulary based on word frequency"
   ]
  },
  {
   "cell_type": "code",
   "execution_count": 129,
   "metadata": {},
   "outputs": [],
   "source": [
    "word_freq = {}\n",
    "for word in corpus:\n",
    "    word_freq[word] = word_freq.get(word, 0) + 1\n",
    "\n",
    "ignored_words = set()\n",
    "for k, v in word_freq.items():\n",
    "    if word_freq[k] < MIN_WORD_FREQUENCY:\n",
    "        ignored_words.add(k)"
   ]
  },
  {
   "cell_type": "code",
   "execution_count": 130,
   "metadata": {},
   "outputs": [
    {
     "name": "stdout",
     "output_type": "stream",
     "text": [
      "Unique words before ignoring: 29207\n",
      "Ignoring words with frequency < 10\n",
      "Unique words after ignoring: 3357\n"
     ]
    }
   ],
   "source": [
    "vocab = set(corpus)\n",
    "print('Unique words before ignoring:', len(vocab))\n",
    "print('Ignoring words with frequency <', MIN_WORD_FREQUENCY)\n",
    "vocab = sorted(set(vocab) - ignored_words)\n",
    "print('Unique words after ignoring:', len(vocab))\n",
    "# print_vocabulary(vocabulary, words)"
   ]
  },
  {
   "cell_type": "markdown",
   "metadata": {},
   "source": [
    "### Creating Vocabulary and char, index mappings"
   ]
  },
  {
   "cell_type": "code",
   "execution_count": 131,
   "metadata": {
    "colab": {},
    "colab_type": "code",
    "id": "rho43V-J3YGr"
   },
   "outputs": [],
   "source": [
    "word_ix={c:i for i,c in enumerate(vocab)}\n",
    "ix_word={i:c for i,c in enumerate(vocab)}"
   ]
  },
  {
   "cell_type": "markdown",
   "metadata": {},
   "source": [
    "### Filtering corpus based on new vocabulary"
   ]
  },
  {
   "cell_type": "code",
   "execution_count": 132,
   "metadata": {},
   "outputs": [
    {
     "name": "stdout",
     "output_type": "stream",
     "text": [
      "Ignored sequences: 295526\n",
      "Remaining sequences: 153764\n"
     ]
    }
   ],
   "source": [
    "sentences = []\n",
    "next_words = []\n",
    "ignored = 0\n",
    "for i in range(0, len(corpus) - maxlen):\n",
    "    # Only add the sequences where no word is in ignored_words\n",
    "    if len(set(corpus[i: i+maxlen+1]).intersection(ignored_words)) == 0:\n",
    "        sentences.append(corpus[i: i + maxlen])\n",
    "        next_words.append(corpus[i + maxlen])\n",
    "    else:\n",
    "        ignored = ignored + 1\n",
    "print('Ignored sequences:', ignored)\n",
    "print('Remaining sequences:', len(sentences))"
   ]
  },
  {
   "cell_type": "markdown",
   "metadata": {},
   "source": [
    "### Creating the train and test datasets"
   ]
  },
  {
   "cell_type": "code",
   "execution_count": 133,
   "metadata": {
    "colab": {},
    "colab_type": "code",
    "id": "X46FgeuG3YG6"
   },
   "outputs": [],
   "source": [
    "split_count = int(0.8 * len(sentences))\n",
    "sentences_test = sentences[split_count:]\n",
    "next_words_test = next_words[split_count:]\n",
    "sentences = sentences[:split_count]\n",
    "next_words = next_words[:split_count]"
   ]
  },
  {
   "cell_type": "markdown",
   "metadata": {},
   "source": [
    "### Check vocab size and corpus size"
   ]
  },
  {
   "cell_type": "code",
   "execution_count": 134,
   "metadata": {
    "colab": {},
    "colab_type": "code",
    "id": "FDWiKD1T3YG3"
   },
   "outputs": [
    {
     "name": "stdout",
     "output_type": "stream",
     "text": [
      "3357\n"
     ]
    }
   ],
   "source": [
    "vocab_size=len(vocab) ##Dimentions of each char\n",
    "print(vocab_size)"
   ]
  },
  {
   "cell_type": "code",
   "execution_count": 135,
   "metadata": {},
   "outputs": [
    {
     "data": {
      "text/plain": [
       "449300"
      ]
     },
     "execution_count": 135,
     "metadata": {},
     "output_type": "execute_result"
    }
   ],
   "source": [
    "len(corpus)"
   ]
  },
  {
   "cell_type": "code",
   "execution_count": 136,
   "metadata": {},
   "outputs": [],
   "source": [
    "def generator(sentence_list, next_word_list, batch_size):\n",
    "    '''\n",
    "    Generator function to generate the input/output data using\n",
    "    generators concept(to avoid RAM overflow)\n",
    "    '''\n",
    "    index = 0\n",
    "    while True:\n",
    "        x = np.zeros((batch_size, maxlen, vocab_size), dtype=np.bool)\n",
    "        y = np.zeros((batch_size, vocab_size), dtype=np.bool)\n",
    "        for i in range(batch_size):\n",
    "            for t, w in enumerate(sentence_list[index]):\n",
    "                x[i, t, word_ix[w]] = 1\n",
    "            y[i, word_ix[next_word_list[index]]] = 1\n",
    "\n",
    "            index = index + 1\n",
    "            if index == len(sentence_list):\n",
    "                index = 0\n",
    "        yield x, y"
   ]
  },
  {
   "cell_type": "code",
   "execution_count": 163,
   "metadata": {
    "colab": {},
    "colab_type": "code",
    "id": "mGj6PbK-3YHP",
    "scrolled": true
   },
   "outputs": [],
   "source": [
    "def create_model(timesteps, vocab_size, no_layers=2,dropout=0.2):\n",
    "    '''\n",
    "    Creating the model\n",
    "    '''\n",
    "    model=Sequential()\n",
    "#     for i in range(no_layers):\n",
    "#         model.add(CuDNNLSTM(128,input_shape=(timesteps,vocab_size), return_sequences=True))\n",
    "#     model.add(Flatten())\n",
    "    model.add(Bidirectional(CuDNNLSTM(128), input_shape=(timesteps,vocab_size)))\n",
    "    model.add(Dropout(dropout))\n",
    "    model.add(Dense(vocab_size))\n",
    "    model.add(Activation('softmax'))\n",
    "    model.summary()\n",
    "    model.compile(optimizer=Adam(lr=0.01),loss='categorical_crossentropy')\n",
    "    return model"
   ]
  },
  {
   "cell_type": "code",
   "execution_count": 164,
   "metadata": {},
   "outputs": [
    {
     "name": "stdout",
     "output_type": "stream",
     "text": [
      "_________________________________________________________________\n",
      "Layer (type)                 Output Shape              Param #   \n",
      "=================================================================\n",
      "bidirectional_3 (Bidirection (None, 256)               3570688   \n",
      "_________________________________________________________________\n",
      "dropout_2 (Dropout)          (None, 256)               0         \n",
      "_________________________________________________________________\n",
      "dense_8 (Dense)              (None, 3357)              862749    \n",
      "_________________________________________________________________\n",
      "activation_8 (Activation)    (None, 3357)              0         \n",
      "=================================================================\n",
      "Total params: 4,433,437\n",
      "Trainable params: 4,433,437\n",
      "Non-trainable params: 0\n",
      "_________________________________________________________________\n"
     ]
    }
   ],
   "source": [
    "model = create_model(maxlen, vocab_size)"
   ]
  },
  {
   "cell_type": "code",
   "execution_count": 165,
   "metadata": {},
   "outputs": [],
   "source": [
    "def sample(preds, temperature=1.0):\n",
    "    '''\n",
    "    helper function to sample an index from a probability array\n",
    "    '''\n",
    "    preds = np.asarray(preds).astype('float64')\n",
    "    preds = np.log(preds) / temperature\n",
    "    exp_preds = np.exp(preds)\n",
    "    preds = exp_preds / np.sum(exp_preds)\n",
    "    probas = np.random.multinomial(1, preds, 1)\n",
    "    return np.argmax(probas)\n",
    "\n",
    "def on_epoch_end(epoch, logs):\n",
    "    '''\n",
    "    Callback function to write output to file after each epoch\n",
    "    '''\n",
    "    # Function invoked at end of each epoch. Prints generated text.\n",
    "    examples_file.write('\\n----- Generating text after Epoch: %d\\n' % epoch)\n",
    "\n",
    "    # Randomly pick a seed sequence\n",
    "    seed_index = np.random.randint(len(sentences+sentences_test))\n",
    "    seed = (sentences+sentences_test)[seed_index]\n",
    "#     print(seed)\n",
    "\n",
    "    for diversity in [0.3, 0.4, 0.5, 0.6, 0.7]:\n",
    "        sentence = seed\n",
    "        examples_file.write('----- Diversity:' + str(diversity) + '\\n')\n",
    "        examples_file.write('----- Generating with seed:\\n\"' + ' '.join(sentence) + '\"\\n')\n",
    "        examples_file.write(' '.join(sentence))\n",
    "\n",
    "        for i in range(50):\n",
    "            x_pred = np.zeros((1, maxlen, vocab_size))\n",
    "#             print(\"sentence len: {0}\".format(len(sentence)))\n",
    "            for t, word in enumerate(sentence):\n",
    "#                 print(word)\n",
    "                x_pred[0, t,word_ix[word]] = 1\n",
    "\n",
    "            preds = model.predict(x_pred, verbose=0)[0]\n",
    "            next_index = sample(preds, diversity)\n",
    "            next_word_pred = ix_word[next_index]\n",
    "\n",
    "            sentence = sentence[1:]\n",
    "#             print(sentence)\n",
    "            sentence.append(next_word_pred)\n",
    "\n",
    "            examples_file.write(\" \"+next_word_pred)\n",
    "        examples_file.write('\\n')\n",
    "    examples_file.write('='*80 + '\\n')\n",
    "#     examples_file.flush()"
   ]
  },
  {
   "cell_type": "markdown",
   "metadata": {},
   "source": [
    "### Opening the output file"
   ]
  },
  {
   "cell_type": "code",
   "execution_count": 166,
   "metadata": {},
   "outputs": [],
   "source": [
    "examples_file = open(\"output_data_word.txt\", \"w\")"
   ]
  },
  {
   "cell_type": "markdown",
   "metadata": {},
   "source": [
    "### Training the model"
   ]
  },
  {
   "cell_type": "code",
   "execution_count": 167,
   "metadata": {
    "colab": {},
    "colab_type": "code",
    "id": "1yMxsErg3YHU"
   },
   "outputs": [
    {
     "name": "stdout",
     "output_type": "stream",
     "text": [
      "Epoch 1/30\n",
      "3845/3845 [==============================] - 129s 33ms/step - loss: 5.5402 - val_loss: 5.8227\n",
      "\n",
      "Epoch 00001: saving model to cp.ckpt\n",
      "Epoch 2/30\n",
      "3845/3845 [==============================] - 127s 33ms/step - loss: 4.4583 - val_loss: 5.9419\n",
      "\n",
      "Epoch 00002: saving model to cp.ckpt\n",
      "Epoch 3/30\n",
      "3845/3845 [==============================] - 129s 33ms/step - loss: 3.5856 - val_loss: 6.2098\n",
      "\n",
      "Epoch 00003: saving model to cp.ckpt\n",
      "Epoch 4/30\n",
      "3845/3845 [==============================] - 129s 33ms/step - loss: 2.9226 - val_loss: 6.6544\n",
      "\n",
      "Epoch 00004: saving model to cp.ckpt\n",
      "Epoch 5/30\n",
      "3687/3845 [===========================>..] - ETA: 4s - loss: 2.4672"
     ]
    },
    {
     "ename": "KeyboardInterrupt",
     "evalue": "",
     "output_type": "error",
     "traceback": [
      "\u001b[0;31m---------------------------------------------------------------------------\u001b[0m",
      "\u001b[0;31mKeyboardInterrupt\u001b[0m                         Traceback (most recent call last)",
      "\u001b[0;32m<ipython-input-167-1cbd1c48276f>\u001b[0m in \u001b[0;36m<module>\u001b[0;34m()\u001b[0m\n\u001b[1;32m     19\u001b[0m     \u001b[0mvalidation_data\u001b[0m\u001b[0;34m=\u001b[0m\u001b[0mgenerator\u001b[0m\u001b[0;34m(\u001b[0m\u001b[0msentences_test\u001b[0m\u001b[0;34m,\u001b[0m \u001b[0mnext_words_test\u001b[0m\u001b[0;34m,\u001b[0m \u001b[0mBATCH_SIZE\u001b[0m\u001b[0;34m)\u001b[0m\u001b[0;34m\u001b[0m\u001b[0;34m\u001b[0m\u001b[0m\n\u001b[1;32m     20\u001b[0m                     \u001b[0;34m,\u001b[0m\u001b[0mvalidation_steps\u001b[0m\u001b[0;34m=\u001b[0m\u001b[0mint\u001b[0m\u001b[0;34m(\u001b[0m\u001b[0mlen\u001b[0m\u001b[0;34m(\u001b[0m\u001b[0msentences_test\u001b[0m\u001b[0;34m)\u001b[0m\u001b[0;34m/\u001b[0m\u001b[0mBATCH_SIZE\u001b[0m\u001b[0;34m)\u001b[0m \u001b[0;34m+\u001b[0m \u001b[0;36m1\u001b[0m\u001b[0;34m,\u001b[0m\u001b[0;34m\u001b[0m\u001b[0;34m\u001b[0m\u001b[0m\n\u001b[0;32m---> 21\u001b[0;31m                    callbacks = callbacks_list)\n\u001b[0m",
      "\u001b[0;32m~/.local/lib/python3.7/site-packages/keras/legacy/interfaces.py\u001b[0m in \u001b[0;36mwrapper\u001b[0;34m(*args, **kwargs)\u001b[0m\n\u001b[1;32m     89\u001b[0m                 warnings.warn('Update your `' + object_name + '` call to the ' +\n\u001b[1;32m     90\u001b[0m                               'Keras 2 API: ' + signature, stacklevel=2)\n\u001b[0;32m---> 91\u001b[0;31m             \u001b[0;32mreturn\u001b[0m \u001b[0mfunc\u001b[0m\u001b[0;34m(\u001b[0m\u001b[0;34m*\u001b[0m\u001b[0margs\u001b[0m\u001b[0;34m,\u001b[0m \u001b[0;34m**\u001b[0m\u001b[0mkwargs\u001b[0m\u001b[0;34m)\u001b[0m\u001b[0;34m\u001b[0m\u001b[0;34m\u001b[0m\u001b[0m\n\u001b[0m\u001b[1;32m     92\u001b[0m         \u001b[0mwrapper\u001b[0m\u001b[0;34m.\u001b[0m\u001b[0m_original_function\u001b[0m \u001b[0;34m=\u001b[0m \u001b[0mfunc\u001b[0m\u001b[0;34m\u001b[0m\u001b[0;34m\u001b[0m\u001b[0m\n\u001b[1;32m     93\u001b[0m         \u001b[0;32mreturn\u001b[0m \u001b[0mwrapper\u001b[0m\u001b[0;34m\u001b[0m\u001b[0;34m\u001b[0m\u001b[0m\n",
      "\u001b[0;32m~/.local/lib/python3.7/site-packages/keras/engine/training.py\u001b[0m in \u001b[0;36mfit_generator\u001b[0;34m(self, generator, steps_per_epoch, epochs, verbose, callbacks, validation_data, validation_steps, class_weight, max_queue_size, workers, use_multiprocessing, shuffle, initial_epoch)\u001b[0m\n\u001b[1;32m   1416\u001b[0m             \u001b[0muse_multiprocessing\u001b[0m\u001b[0;34m=\u001b[0m\u001b[0muse_multiprocessing\u001b[0m\u001b[0;34m,\u001b[0m\u001b[0;34m\u001b[0m\u001b[0;34m\u001b[0m\u001b[0m\n\u001b[1;32m   1417\u001b[0m             \u001b[0mshuffle\u001b[0m\u001b[0;34m=\u001b[0m\u001b[0mshuffle\u001b[0m\u001b[0;34m,\u001b[0m\u001b[0;34m\u001b[0m\u001b[0;34m\u001b[0m\u001b[0m\n\u001b[0;32m-> 1418\u001b[0;31m             initial_epoch=initial_epoch)\n\u001b[0m\u001b[1;32m   1419\u001b[0m \u001b[0;34m\u001b[0m\u001b[0m\n\u001b[1;32m   1420\u001b[0m     \u001b[0;34m@\u001b[0m\u001b[0minterfaces\u001b[0m\u001b[0;34m.\u001b[0m\u001b[0mlegacy_generator_methods_support\u001b[0m\u001b[0;34m\u001b[0m\u001b[0;34m\u001b[0m\u001b[0m\n",
      "\u001b[0;32m~/.local/lib/python3.7/site-packages/keras/engine/training_generator.py\u001b[0m in \u001b[0;36mfit_generator\u001b[0;34m(model, generator, steps_per_epoch, epochs, verbose, callbacks, validation_data, validation_steps, class_weight, max_queue_size, workers, use_multiprocessing, shuffle, initial_epoch)\u001b[0m\n\u001b[1;32m    215\u001b[0m                 outs = model.train_on_batch(x, y,\n\u001b[1;32m    216\u001b[0m                                             \u001b[0msample_weight\u001b[0m\u001b[0;34m=\u001b[0m\u001b[0msample_weight\u001b[0m\u001b[0;34m,\u001b[0m\u001b[0;34m\u001b[0m\u001b[0;34m\u001b[0m\u001b[0m\n\u001b[0;32m--> 217\u001b[0;31m                                             class_weight=class_weight)\n\u001b[0m\u001b[1;32m    218\u001b[0m \u001b[0;34m\u001b[0m\u001b[0m\n\u001b[1;32m    219\u001b[0m                 \u001b[0mouts\u001b[0m \u001b[0;34m=\u001b[0m \u001b[0mto_list\u001b[0m\u001b[0;34m(\u001b[0m\u001b[0mouts\u001b[0m\u001b[0;34m)\u001b[0m\u001b[0;34m\u001b[0m\u001b[0;34m\u001b[0m\u001b[0m\n",
      "\u001b[0;32m~/.local/lib/python3.7/site-packages/keras/engine/training.py\u001b[0m in \u001b[0;36mtrain_on_batch\u001b[0;34m(self, x, y, sample_weight, class_weight)\u001b[0m\n\u001b[1;32m   1215\u001b[0m             \u001b[0mins\u001b[0m \u001b[0;34m=\u001b[0m \u001b[0mx\u001b[0m \u001b[0;34m+\u001b[0m \u001b[0my\u001b[0m \u001b[0;34m+\u001b[0m \u001b[0msample_weights\u001b[0m\u001b[0;34m\u001b[0m\u001b[0;34m\u001b[0m\u001b[0m\n\u001b[1;32m   1216\u001b[0m         \u001b[0mself\u001b[0m\u001b[0;34m.\u001b[0m\u001b[0m_make_train_function\u001b[0m\u001b[0;34m(\u001b[0m\u001b[0;34m)\u001b[0m\u001b[0;34m\u001b[0m\u001b[0;34m\u001b[0m\u001b[0m\n\u001b[0;32m-> 1217\u001b[0;31m         \u001b[0moutputs\u001b[0m \u001b[0;34m=\u001b[0m \u001b[0mself\u001b[0m\u001b[0;34m.\u001b[0m\u001b[0mtrain_function\u001b[0m\u001b[0;34m(\u001b[0m\u001b[0mins\u001b[0m\u001b[0;34m)\u001b[0m\u001b[0;34m\u001b[0m\u001b[0;34m\u001b[0m\u001b[0m\n\u001b[0m\u001b[1;32m   1218\u001b[0m         \u001b[0;32mreturn\u001b[0m \u001b[0munpack_singleton\u001b[0m\u001b[0;34m(\u001b[0m\u001b[0moutputs\u001b[0m\u001b[0;34m)\u001b[0m\u001b[0;34m\u001b[0m\u001b[0;34m\u001b[0m\u001b[0m\n\u001b[1;32m   1219\u001b[0m \u001b[0;34m\u001b[0m\u001b[0m\n",
      "\u001b[0;32m~/.local/lib/python3.7/site-packages/keras/backend/tensorflow_backend.py\u001b[0m in \u001b[0;36m__call__\u001b[0;34m(self, inputs)\u001b[0m\n\u001b[1;32m   2713\u001b[0m                 \u001b[0;32mreturn\u001b[0m \u001b[0mself\u001b[0m\u001b[0;34m.\u001b[0m\u001b[0m_legacy_call\u001b[0m\u001b[0;34m(\u001b[0m\u001b[0minputs\u001b[0m\u001b[0;34m)\u001b[0m\u001b[0;34m\u001b[0m\u001b[0;34m\u001b[0m\u001b[0m\n\u001b[1;32m   2714\u001b[0m \u001b[0;34m\u001b[0m\u001b[0m\n\u001b[0;32m-> 2715\u001b[0;31m             \u001b[0;32mreturn\u001b[0m \u001b[0mself\u001b[0m\u001b[0;34m.\u001b[0m\u001b[0m_call\u001b[0m\u001b[0;34m(\u001b[0m\u001b[0minputs\u001b[0m\u001b[0;34m)\u001b[0m\u001b[0;34m\u001b[0m\u001b[0;34m\u001b[0m\u001b[0m\n\u001b[0m\u001b[1;32m   2716\u001b[0m         \u001b[0;32melse\u001b[0m\u001b[0;34m:\u001b[0m\u001b[0;34m\u001b[0m\u001b[0;34m\u001b[0m\u001b[0m\n\u001b[1;32m   2717\u001b[0m             \u001b[0;32mif\u001b[0m \u001b[0mpy_any\u001b[0m\u001b[0;34m(\u001b[0m\u001b[0mis_tensor\u001b[0m\u001b[0;34m(\u001b[0m\u001b[0mx\u001b[0m\u001b[0;34m)\u001b[0m \u001b[0;32mfor\u001b[0m \u001b[0mx\u001b[0m \u001b[0;32min\u001b[0m \u001b[0minputs\u001b[0m\u001b[0;34m)\u001b[0m\u001b[0;34m:\u001b[0m\u001b[0;34m\u001b[0m\u001b[0;34m\u001b[0m\u001b[0m\n",
      "\u001b[0;32m~/.local/lib/python3.7/site-packages/keras/backend/tensorflow_backend.py\u001b[0m in \u001b[0;36m_call\u001b[0;34m(self, inputs)\u001b[0m\n\u001b[1;32m   2673\u001b[0m             \u001b[0mfetched\u001b[0m \u001b[0;34m=\u001b[0m \u001b[0mself\u001b[0m\u001b[0;34m.\u001b[0m\u001b[0m_callable_fn\u001b[0m\u001b[0;34m(\u001b[0m\u001b[0;34m*\u001b[0m\u001b[0marray_vals\u001b[0m\u001b[0;34m,\u001b[0m \u001b[0mrun_metadata\u001b[0m\u001b[0;34m=\u001b[0m\u001b[0mself\u001b[0m\u001b[0;34m.\u001b[0m\u001b[0mrun_metadata\u001b[0m\u001b[0;34m)\u001b[0m\u001b[0;34m\u001b[0m\u001b[0;34m\u001b[0m\u001b[0m\n\u001b[1;32m   2674\u001b[0m         \u001b[0;32melse\u001b[0m\u001b[0;34m:\u001b[0m\u001b[0;34m\u001b[0m\u001b[0;34m\u001b[0m\u001b[0m\n\u001b[0;32m-> 2675\u001b[0;31m             \u001b[0mfetched\u001b[0m \u001b[0;34m=\u001b[0m \u001b[0mself\u001b[0m\u001b[0;34m.\u001b[0m\u001b[0m_callable_fn\u001b[0m\u001b[0;34m(\u001b[0m\u001b[0;34m*\u001b[0m\u001b[0marray_vals\u001b[0m\u001b[0;34m)\u001b[0m\u001b[0;34m\u001b[0m\u001b[0;34m\u001b[0m\u001b[0m\n\u001b[0m\u001b[1;32m   2676\u001b[0m         \u001b[0;32mreturn\u001b[0m \u001b[0mfetched\u001b[0m\u001b[0;34m[\u001b[0m\u001b[0;34m:\u001b[0m\u001b[0mlen\u001b[0m\u001b[0;34m(\u001b[0m\u001b[0mself\u001b[0m\u001b[0;34m.\u001b[0m\u001b[0moutputs\u001b[0m\u001b[0;34m)\u001b[0m\u001b[0;34m]\u001b[0m\u001b[0;34m\u001b[0m\u001b[0;34m\u001b[0m\u001b[0m\n\u001b[1;32m   2677\u001b[0m \u001b[0;34m\u001b[0m\u001b[0m\n",
      "\u001b[0;32m~/.local/lib/python3.7/site-packages/tensorflow/python/client/session.py\u001b[0m in \u001b[0;36m__call__\u001b[0;34m(self, *args, **kwargs)\u001b[0m\n\u001b[1;32m   1437\u001b[0m           ret = tf_session.TF_SessionRunCallable(\n\u001b[1;32m   1438\u001b[0m               \u001b[0mself\u001b[0m\u001b[0;34m.\u001b[0m\u001b[0m_session\u001b[0m\u001b[0;34m.\u001b[0m\u001b[0m_session\u001b[0m\u001b[0;34m,\u001b[0m \u001b[0mself\u001b[0m\u001b[0;34m.\u001b[0m\u001b[0m_handle\u001b[0m\u001b[0;34m,\u001b[0m \u001b[0margs\u001b[0m\u001b[0;34m,\u001b[0m \u001b[0mstatus\u001b[0m\u001b[0;34m,\u001b[0m\u001b[0;34m\u001b[0m\u001b[0;34m\u001b[0m\u001b[0m\n\u001b[0;32m-> 1439\u001b[0;31m               run_metadata_ptr)\n\u001b[0m\u001b[1;32m   1440\u001b[0m         \u001b[0;32mif\u001b[0m \u001b[0mrun_metadata\u001b[0m\u001b[0;34m:\u001b[0m\u001b[0;34m\u001b[0m\u001b[0;34m\u001b[0m\u001b[0m\n\u001b[1;32m   1441\u001b[0m           \u001b[0mproto_data\u001b[0m \u001b[0;34m=\u001b[0m \u001b[0mtf_session\u001b[0m\u001b[0;34m.\u001b[0m\u001b[0mTF_GetBuffer\u001b[0m\u001b[0;34m(\u001b[0m\u001b[0mrun_metadata_ptr\u001b[0m\u001b[0;34m)\u001b[0m\u001b[0;34m\u001b[0m\u001b[0;34m\u001b[0m\u001b[0m\n",
      "\u001b[0;31mKeyboardInterrupt\u001b[0m: "
     ]
    }
   ],
   "source": [
    "file_path = \"./checkpoints/LSTM_LYRICS-epoch{epoch:03d}-words%d-sequence%d-minfreq%d-loss{loss:.4f}-acc{acc:.4f}-val_loss{val_loss:.4f}-val_acc{val_acc:.4f}\" % (\n",
    "    len(vocab),\n",
    "    maxlen,\n",
    "    10\n",
    ")\n",
    "checkpoint = ModelCheckpoint(file_path, monitor='val_acc', save_best_only=True)\n",
    "\n",
    "checkpoint_path = \"cp.ckpt\"\n",
    "cp_callback = tf.keras.callbacks.ModelCheckpoint(checkpoint_path, \n",
    "                                                 save_weights_only=True,\n",
    "                                                 verbose=1)\n",
    "\n",
    "print_callback = LambdaCallback(on_epoch_end=on_epoch_end)\n",
    "early_stopping = EarlyStopping(monitor='val_acc', patience=5)\n",
    "callbacks_list = [print_callback, cp_callback]\n",
    "history = model.fit_generator(generator(sentences, next_words, BATCH_SIZE),\n",
    "    steps_per_epoch=int(len(sentences)/BATCH_SIZE) + 1,\n",
    "    epochs=epochs,\n",
    "    validation_data=generator(sentences_test, next_words_test, BATCH_SIZE)\n",
    "                    ,validation_steps=int(len(sentences_test)/BATCH_SIZE) + 1,\n",
    "                   callbacks = callbacks_list)"
   ]
  },
  {
   "cell_type": "markdown",
   "metadata": {},
   "source": [
    "### Closing the output file"
   ]
  },
  {
   "cell_type": "code",
   "execution_count": 93,
   "metadata": {},
   "outputs": [],
   "source": [
    "examples_file.close()"
   ]
  },
  {
   "cell_type": "markdown",
   "metadata": {},
   "source": [
    "### Plotting Train Loss curve"
   ]
  },
  {
   "cell_type": "code",
   "execution_count": 94,
   "metadata": {},
   "outputs": [
    {
     "data": {
      "text/plain": [
       "[<matplotlib.lines.Line2D at 0x7fd78f9356a0>]"
      ]
     },
     "execution_count": 94,
     "metadata": {},
     "output_type": "execute_result"
    },
    {
     "data": {
      "image/png": "[encoded data removed]",
      "text/plain": [
       "<Figure size 432x288 with 1 Axes>"
      ]
     },
     "metadata": {},
     "output_type": "display_data"
    }
   ],
   "source": [
    "plt.plot(history.history['loss'])"
   ]
  },
  {
   "cell_type": "markdown",
   "metadata": {},
   "source": [
    "### Plotting Validation Loss curve"
   ]
  },
  {
   "cell_type": "code",
   "execution_count": 95,
   "metadata": {},
   "outputs": [
    {
     "data": {
      "text/plain": [
       "[<matplotlib.lines.Line2D at 0x7fd78f891d68>]"
      ]
     },
     "execution_count": 95,
     "metadata": {},
     "output_type": "execute_result"
    },
    {
     "data": {
      "image/png": "[encoded data removed]",
      "text/plain": [
       "<Figure size 432x288 with 1 Axes>"
      ]
     },
     "metadata": {},
     "output_type": "display_data"
    }
   ],
   "source": [
    "plt.plot(history.history['val_loss'])"
   ]
  },
  {
   "cell_type": "markdown",
   "metadata": {},
   "source": [
    "### Saving the model to disk"
   ]
  },
  {
   "cell_type": "code",
   "execution_count": 96,
   "metadata": {
    "colab": {},
    "colab_type": "code",
    "id": "70L9BUE23YHY",
    "outputId": "cc040da6-1b15-487f-c9da-47404be44dcd"
   },
   "outputs": [],
   "source": [
    "model.save('keras_model_word.hdf5')\n",
    "# loaded_model = keras.models.load_model('keras_model_word.hdf5')"
   ]
  },
  {
   "cell_type": "markdown",
   "metadata": {},
   "source": [
    "### Loading the model"
   ]
  },
  {
   "cell_type": "code",
   "execution_count": 97,
   "metadata": {},
   "outputs": [],
   "source": [
    "#loaded_model = keras.models.load_model('keras_model.hdf5')"
   ]
  },
  {
   "cell_type": "markdown",
   "metadata": {},
   "source": [
    "### Testing the model"
   ]
  },
  {
   "cell_type": "code",
   "execution_count": 101,
   "metadata": {},
   "outputs": [],
   "source": [
    "def predict_n(model, input_seq, len_out=10):\n",
    "    generated = []\n",
    "    actual = []\n",
    "    # sent=txt[start_index:start_index+maxlen]\n",
    "    sent = input_seq\n",
    "    generated += sent\n",
    "    gen = generated\n",
    "    for i in range(len_out):\n",
    "        x_sample=generated[i:i+maxlen]\n",
    "        x = np.zeros((1,maxlen,vocab_size))\n",
    "        for j in range(maxlen):\n",
    "            x[0,j,word_ix[x_sample[j]]] = 1\n",
    "        probs = model.predict(x)\n",
    "        probs = np.reshape(probs,probs.shape[1])\n",
    "        ix = np.argmax(probs)\n",
    "    #     ix=np.random.choice(range(vocab_size),p=probs.ravel())\n",
    "        generated.append(ix_word[ix])\n",
    "    return \" \".join(generated)"
   ]
  },
  {
   "cell_type": "code",
   "execution_count": 106,
   "metadata": {},
   "outputs": [],
   "source": [
    "inp = \"Is there anybody in there?\\nJust nod if you can hear me\\nIs there anyone at home?\"\n",
    "inp_seq = inp.lower().split(\" \")[:10]"
   ]
  },
  {
   "cell_type": "code",
   "execution_count": 107,
   "metadata": {},
   "outputs": [
    {
     "ename": "KeyError",
     "evalue": "'anybody'",
     "output_type": "error",
     "traceback": [
      "\u001b[0;31m---------------------------------------------------------------------------\u001b[0m",
      "\u001b[0;31mKeyError\u001b[0m                                  Traceback (most recent call last)",
      "\u001b[0;32m<ipython-input-107-9a346ef70217>\u001b[0m in \u001b[0;36m<module>\u001b[0;34m()\u001b[0m\n\u001b[0;32m----> 1\u001b[0;31m \u001b[0mpredict_n\u001b[0m\u001b[0;34m(\u001b[0m\u001b[0mmodel\u001b[0m\u001b[0;34m,\u001b[0m \u001b[0minp_seq\u001b[0m\u001b[0;34m,\u001b[0m \u001b[0;36m10\u001b[0m\u001b[0;34m)\u001b[0m\u001b[0;34m\u001b[0m\u001b[0;34m\u001b[0m\u001b[0m\n\u001b[0m",
      "\u001b[0;32m<ipython-input-101-910393a1a419>\u001b[0m in \u001b[0;36mpredict_n\u001b[0;34m(model, input_seq, len_out)\u001b[0m\n\u001b[1;32m     10\u001b[0m         \u001b[0mx\u001b[0m \u001b[0;34m=\u001b[0m \u001b[0mnp\u001b[0m\u001b[0;34m.\u001b[0m\u001b[0mzeros\u001b[0m\u001b[0;34m(\u001b[0m\u001b[0;34m(\u001b[0m\u001b[0;36m1\u001b[0m\u001b[0;34m,\u001b[0m\u001b[0mmaxlen\u001b[0m\u001b[0;34m,\u001b[0m\u001b[0mvocab_size\u001b[0m\u001b[0;34m)\u001b[0m\u001b[0;34m)\u001b[0m\u001b[0;34m\u001b[0m\u001b[0;34m\u001b[0m\u001b[0m\n\u001b[1;32m     11\u001b[0m         \u001b[0;32mfor\u001b[0m \u001b[0mj\u001b[0m \u001b[0;32min\u001b[0m \u001b[0mrange\u001b[0m\u001b[0;34m(\u001b[0m\u001b[0mmaxlen\u001b[0m\u001b[0;34m)\u001b[0m\u001b[0;34m:\u001b[0m\u001b[0;34m\u001b[0m\u001b[0;34m\u001b[0m\u001b[0m\n\u001b[0;32m---> 12\u001b[0;31m             \u001b[0mx\u001b[0m\u001b[0;34m[\u001b[0m\u001b[0;36m0\u001b[0m\u001b[0;34m,\u001b[0m\u001b[0mj\u001b[0m\u001b[0;34m,\u001b[0m\u001b[0mword_ix\u001b[0m\u001b[0;34m[\u001b[0m\u001b[0mx_sample\u001b[0m\u001b[0;34m[\u001b[0m\u001b[0mj\u001b[0m\u001b[0;34m]\u001b[0m\u001b[0;34m]\u001b[0m\u001b[0;34m]\u001b[0m \u001b[0;34m=\u001b[0m \u001b[0;36m1\u001b[0m\u001b[0;34m\u001b[0m\u001b[0;34m\u001b[0m\u001b[0m\n\u001b[0m\u001b[1;32m     13\u001b[0m         \u001b[0mprobs\u001b[0m \u001b[0;34m=\u001b[0m \u001b[0mmodel\u001b[0m\u001b[0;34m.\u001b[0m\u001b[0mpredict\u001b[0m\u001b[0;34m(\u001b[0m\u001b[0mx\u001b[0m\u001b[0;34m)\u001b[0m\u001b[0;34m\u001b[0m\u001b[0;34m\u001b[0m\u001b[0m\n\u001b[1;32m     14\u001b[0m         \u001b[0mprobs\u001b[0m \u001b[0;34m=\u001b[0m \u001b[0mnp\u001b[0m\u001b[0;34m.\u001b[0m\u001b[0mreshape\u001b[0m\u001b[0;34m(\u001b[0m\u001b[0mprobs\u001b[0m\u001b[0;34m,\u001b[0m\u001b[0mprobs\u001b[0m\u001b[0;34m.\u001b[0m\u001b[0mshape\u001b[0m\u001b[0;34m[\u001b[0m\u001b[0;36m1\u001b[0m\u001b[0;34m]\u001b[0m\u001b[0;34m)\u001b[0m\u001b[0;34m\u001b[0m\u001b[0;34m\u001b[0m\u001b[0m\n",
      "\u001b[0;31mKeyError\u001b[0m: 'anybody'"
     ]
    }
   ],
   "source": [
    "predict_n(model, inp_seq, 10)"
   ]
  },
  {
   "cell_type": "code",
   "execution_count": 100,
   "metadata": {
    "colab": {},
    "colab_type": "code",
    "id": "sssDDxa23YHc"
   },
   "outputs": [
    {
     "name": "stdout",
     "output_type": "stream",
     "text": [
      "Input -  ['take', 'you', 'down,', \"'cause\", \"i'm\", 'going', 'to', 'strawberry', 'fields.\\nnothing', 'is']\n",
      "Generated ############### \n",
      "take you down, 'cause i'm going to strawberry fields.\n",
      "nothing is real and nothing to get hung about\n",
      "strawberry fields forever\n",
      "strawberry fields\n",
      "\n",
      "Actual ###############\n",
      "take you down, 'cause i'm going to strawberry fields.\n",
      "nothing is real and nothing to get hung about.\n",
      "strawberry fields when it's\n",
      "Input -  ['you', 'down,', \"'cause\", \"i'm\", 'going', 'to', 'strawberry', 'fields.\\nnothing', 'is', 'real']\n",
      "Generated ############### \n",
      "you down, 'cause i'm going to strawberry fields.\n",
      "nothing is real and nothing to get hung about\n",
      "strawberry fields forever\n",
      "strawberry fields forever\n",
      "strawberry\n",
      "\n",
      "Actual ###############\n",
      "you down, 'cause i'm going to strawberry fields.\n",
      "nothing is real real and nothing to get hung about.\n",
      "strawberry fields when it's\n",
      "Input -  ['down,', \"'cause\", \"i'm\", 'going', 'to', 'strawberry', 'fields.\\nnothing', 'is', 'real', 'and']\n",
      "Generated ############### \n",
      "down, 'cause i'm going to strawberry fields.\n",
      "nothing is real and nothing to get hung about\n",
      "strawberry fields forever\n",
      "strawberry fields forever\n",
      "strawberry fields\n",
      "\n",
      "Actual ###############\n",
      "down, 'cause i'm going to strawberry fields.\n",
      "nothing is real and real and nothing to get hung about.\n",
      "strawberry fields when it's\n",
      "Input -  [\"'cause\", \"i'm\", 'going', 'to', 'strawberry', 'fields.\\nnothing', 'is', 'real', 'and', 'nothing']\n",
      "Generated ############### \n",
      "'cause i'm going to strawberry fields.\n",
      "nothing is real and nothing to get hung about\n",
      "strawberry fields forever\n",
      "strawberry fields forever\n",
      "strawberry fields forever\n",
      "strawberry\n",
      "\n",
      "Actual ###############\n",
      "'cause i'm going to strawberry fields.\n",
      "nothing is real and nothing real and nothing to get hung about.\n",
      "strawberry fields when it's\n",
      "Input -  [\"i'm\", 'going', 'to', 'strawberry', 'fields.\\nnothing', 'is', 'real', 'and', 'nothing', 'to']\n",
      "Generated ############### \n",
      "i'm going to strawberry fields.\n",
      "nothing is real and nothing to get hung about\n",
      "strawberry fields forever\n",
      "strawberry fields forever\n",
      "strawberry fields forever\n",
      "strawberry fields\n",
      "\n",
      "Actual ###############\n",
      "i'm going to strawberry fields.\n",
      "nothing is real and nothing to real and nothing to get hung about.\n",
      "strawberry fields when it's\n",
      "Input -  ['going', 'to', 'strawberry', 'fields.\\nnothing', 'is', 'real', 'and', 'nothing', 'to', 'get']\n",
      "Generated ############### \n",
      "going to strawberry fields.\n",
      "nothing is real and nothing to get hung about\n",
      "strawberry fields forever\n",
      "strawberry fields forever\n",
      "strawberry fields forever\n",
      "strawberry fields forever\n",
      "strawberry\n",
      "\n",
      "Actual ###############\n",
      "going to strawberry fields.\n",
      "nothing is real and nothing to get real and nothing to get hung about.\n",
      "strawberry fields when it's\n",
      "Input -  ['to', 'strawberry', 'fields.\\nnothing', 'is', 'real', 'and', 'nothing', 'to', 'get', 'hung']\n",
      "Generated ############### \n",
      "to strawberry fields.\n",
      "nothing is real and nothing to get hung about\n",
      "strawberry fields forever\n",
      "strawberry fields forever\n",
      "strawberry fields forever\n",
      "strawberry fields forever\n",
      "strawberry fields\n",
      "\n",
      "Actual ###############\n",
      "to strawberry fields.\n",
      "nothing is real and nothing to get hung real and nothing to get hung about.\n",
      "strawberry fields when it's\n",
      "Input -  ['strawberry', 'fields.\\nnothing', 'is', 'real', 'and', 'nothing', 'to', 'get', 'hung', 'about.\\nstrawberry']\n",
      "Generated ############### \n",
      "strawberry fields.\n",
      "nothing is real and nothing to get hung about.\n",
      "strawberry fields forever\n",
      "strawberry fields forever\n",
      "strawberry fields forever\n",
      "strawberry fields forever\n",
      "strawberry fields forever\n",
      "strawberry\n",
      "\n",
      "Actual ###############\n",
      "strawberry fields.\n",
      "nothing is real and nothing to get hung about.\n",
      "strawberry real and nothing to get hung about.\n",
      "strawberry fields when it's\n",
      "Input -  ['no', 'sometimes,', 'think', \"it's\", 'me,', 'but', 'you', 'know', 'i', 'know']\n",
      "Generated ############### \n",
      "no sometimes, think it's me, but you know i know where you've been\n",
      "i saw you walk in the shadewe would\n",
      "\n",
      "Actual ###############\n",
      "no sometimes, think it's me, but you know i know real and nothing to get hung about.\n",
      "strawberry fields when it's\n",
      "Input -  ['sometimes,', 'think', \"it's\", 'me,', 'but', 'you', 'know', 'i', 'know', 'when']\n",
      "Generated ############### \n",
      "sometimes, think it's me, but you know i know when it's a fool who plays it cool\n",
      "by making his world\n",
      "\n",
      "Actual ###############\n",
      "sometimes, think it's me, but you know i know when real and nothing to get hung about.\n",
      "strawberry fields when it's\n",
      "Input -  ['think', \"it's\", 'me,', 'but', 'you', 'know', 'i', 'know', 'when', \"it's\"]\n",
      "Generated ############### \n",
      "think it's me, but you know i know when it's a fool who plays it cool\n",
      "by making his world a\n",
      "\n",
      "Actual ###############\n",
      "think it's me, but you know i know when it's real and nothing to get hung about.\n",
      "strawberry fields when it's\n",
      "Input -  ['me', 'take', 'you', 'down,', \"'cause\", \"i'm\", 'going', 'to', 'strawberry', 'fields.\\nnothing']\n",
      "Generated ############### \n",
      "me take you down, 'cause i'm going to strawberry fields.\n",
      "nothing is real and nothing to get hung about\n",
      "strawberry fields forever\n",
      "strawberry\n",
      "\n",
      "Actual ###############\n",
      "me take you down, 'cause i'm going to strawberry fields.\n",
      "nothing real and nothing to get hung about.\n",
      "strawberry fields when it's\n",
      "Input -  ['take', 'you', 'down,', \"'cause\", \"i'm\", 'going', 'to', 'strawberry', 'fields.\\nnothing', 'is']\n",
      "Generated ############### \n",
      "take you down, 'cause i'm going to strawberry fields.\n",
      "nothing is real and nothing to get hung about\n",
      "strawberry fields forever\n",
      "strawberry fields\n",
      "\n",
      "Actual ###############\n",
      "take you down, 'cause i'm going to strawberry fields.\n",
      "nothing is real and nothing to get hung about.\n",
      "strawberry fields when it's\n",
      "Input -  ['you', 'down,', \"'cause\", \"i'm\", 'going', 'to', 'strawberry', 'fields.\\nnothing', 'is', 'real']\n",
      "Generated ############### \n",
      "you down, 'cause i'm going to strawberry fields.\n",
      "nothing is real and nothing to get hung about\n",
      "strawberry fields forever\n",
      "strawberry fields forever\n",
      "strawberry\n",
      "\n",
      "Actual ###############\n",
      "you down, 'cause i'm going to strawberry fields.\n",
      "nothing is real real and nothing to get hung about.\n",
      "strawberry fields when it's\n",
      "Input -  ['down,', \"'cause\", \"i'm\", 'going', 'to', 'strawberry', 'fields.\\nnothing', 'is', 'real', 'and']\n",
      "Generated ############### \n",
      "down, 'cause i'm going to strawberry fields.\n",
      "nothing is real and nothing to get hung about\n",
      "strawberry fields forever\n",
      "strawberry fields forever\n",
      "strawberry fields\n",
      "\n",
      "Actual ###############\n",
      "down, 'cause i'm going to strawberry fields.\n",
      "nothing is real and real and nothing to get hung about.\n",
      "strawberry fields when it's\n",
      "Input -  [\"'cause\", \"i'm\", 'going', 'to', 'strawberry', 'fields.\\nnothing', 'is', 'real', 'and', 'nothing']\n",
      "Generated ############### \n",
      "'cause i'm going to strawberry fields.\n",
      "nothing is real and nothing to get hung about\n",
      "strawberry fields forever\n",
      "strawberry fields forever\n",
      "strawberry fields forever\n",
      "strawberry\n",
      "\n",
      "Actual ###############\n",
      "'cause i'm going to strawberry fields.\n",
      "nothing is real and nothing real and nothing to get hung about.\n",
      "strawberry fields when it's\n",
      "Input -  [\"i'm\", 'going', 'to', 'strawberry', 'fields.\\nnothing', 'is', 'real', 'and', 'nothing', 'to']\n",
      "Generated ############### \n",
      "i'm going to strawberry fields.\n",
      "nothing is real and nothing to get hung about\n",
      "strawberry fields forever\n",
      "strawberry fields forever\n",
      "strawberry fields forever\n",
      "strawberry fields\n",
      "\n",
      "Actual ###############\n",
      "i'm going to strawberry fields.\n",
      "nothing is real and nothing to real and nothing to get hung about.\n",
      "strawberry fields when it's\n",
      "Input -  ['going', 'to', 'strawberry', 'fields.\\nnothing', 'is', 'real', 'and', 'nothing', 'to', 'get']\n",
      "Generated ############### \n",
      "going to strawberry fields.\n",
      "nothing is real and nothing to get hung about\n",
      "strawberry fields forever\n",
      "strawberry fields forever\n",
      "strawberry fields forever\n",
      "strawberry fields forever\n",
      "strawberry\n",
      "\n",
      "Actual ###############\n",
      "going to strawberry fields.\n",
      "nothing is real and nothing to get real and nothing to get hung about.\n",
      "strawberry fields when it's\n",
      "Input -  ['to', 'strawberry', 'fields.\\nnothing', 'is', 'real', 'and', 'nothing', 'to', 'get', 'hung']\n",
      "Generated ############### \n",
      "to strawberry fields.\n",
      "nothing is real and nothing to get hung about\n",
      "strawberry fields forever\n",
      "strawberry fields forever\n",
      "strawberry fields forever\n",
      "strawberry fields forever\n",
      "strawberry fields\n",
      "\n",
      "Actual ###############\n",
      "to strawberry fields.\n",
      "nothing is real and nothing to get hung real and nothing to get hung about.\n",
      "strawberry fields when it's\n",
      "Input -  ['strawberry', 'fields.\\nnothing', 'is', 'real', 'and', 'nothing', 'to', 'get', 'hung', 'about.\\nstrawberry']\n",
      "Generated ############### \n",
      "strawberry fields.\n",
      "nothing is real and nothing to get hung about.\n",
      "strawberry fields forever\n",
      "strawberry fields forever\n",
      "strawberry fields forever\n",
      "strawberry fields forever\n",
      "strawberry fields forever\n",
      "strawberry\n",
      "\n",
      "Actual ###############\n",
      "strawberry fields.\n",
      "nothing is real and nothing to get hung about.\n",
      "strawberry real and nothing to get hung about.\n",
      "strawberry fields when it's\n",
      "Input -  ['really', 'rocking', 'in', 'boston\\nphiladelphia,', 'pa\\ndeep', 'in', 'the', 'heart', 'of', 'texas\\non']\n",
      "Generated ############### \n",
      "really rocking in boston\n",
      "philadelphia, pa\n",
      "deep in the heart of texas\n",
      "on loving, baby\n",
      "please please pleasethough i keep trying hard\n",
      "to make her\n",
      "\n",
      "Actual ###############\n",
      "really rocking in boston\n",
      "philadelphia, pa\n",
      "deep in the heart of texas\n",
      "on real and nothing to get hung about.\n",
      "strawberry fields when it's\n",
      "Input -  ['rocking', 'in', 'boston\\nphiladelphia,', 'pa\\ndeep', 'in', 'the', 'heart', 'of', 'texas\\non', 'down']\n"
     ]
    },
    {
     "name": "stdout",
     "output_type": "stream",
     "text": [
      "Generated ############### \n",
      "rocking in boston\n",
      "philadelphia, pa\n",
      "deep in the heart of texas\n",
      "on down (i'm really down)\n",
      "how can you laugh when you know you\n",
      "\n",
      "Actual ###############\n",
      "rocking in boston\n",
      "philadelphia, pa\n",
      "deep in the heart of texas\n",
      "on down real and nothing to get hung about.\n",
      "strawberry fields when it's\n",
      "Input -  ['in', 'boston\\nphiladelphia,', 'pa\\ndeep', 'in', 'the', 'heart', 'of', 'texas\\non', 'down', 'in']\n",
      "Generated ############### \n",
      "in boston\n",
      "philadelphia, pa\n",
      "deep in the heart of texas\n",
      "on down in the movies\n",
      "then i know that you will plainly see\n",
      "the biggest\n",
      "\n",
      "Actual ###############\n",
      "in boston\n",
      "philadelphia, pa\n",
      "deep in the heart of texas\n",
      "on down in real and nothing to get hung about.\n",
      "strawberry fields when it's\n",
      "Input -  ['boston\\nphiladelphia,', 'pa\\ndeep', 'in', 'the', 'heart', 'of', 'texas\\non', 'down', 'in', 'frisco']\n",
      "Generated ############### \n",
      "boston\n",
      "philadelphia, pa\n",
      "deep in the heart of texas\n",
      "on down in frisco pans\n",
      "i said get out of that kitchen\n",
      "and shake those pots\n",
      "\n",
      "Actual ###############\n",
      "boston\n",
      "philadelphia, pa\n",
      "deep in the heart of texas\n",
      "on down in frisco real and nothing to get hung about.\n",
      "strawberry fields when it's\n",
      "Input -  ['pa\\ndeep', 'in', 'the', 'heart', 'of', 'texas\\non', 'down', 'in', 'frisco', 'bay\\nall']\n",
      "Generated ############### \n",
      "pa\n",
      "deep in the heart of texas\n",
      "on down in frisco bay\n",
      "all the loving, baby\n",
      "please please pleasethough i keep trying hard\n",
      "to make\n",
      "\n",
      "Actual ###############\n",
      "pa\n",
      "deep in the heart of texas\n",
      "on down in frisco bay\n",
      "all real and nothing to get hung about.\n",
      "strawberry fields when it's\n",
      "Input -  ['in', 'the', 'heart', 'of', 'texas\\non', 'down', 'in', 'frisco', 'bay\\nall', 'over']\n",
      "Generated ############### \n",
      "in the heart of texas\n",
      "on down in frisco bay\n",
      "all over once, move over twice\n",
      "come on baby don't be cold as\n",
      "\n",
      "Actual ###############\n",
      "in the heart of texas\n",
      "on down in frisco bay\n",
      "all over real and nothing to get hung about.\n",
      "strawberry fields when it's\n",
      "Input -  ['the', 'heart', 'of', 'texas\\non', 'down', 'in', 'frisco', 'bay\\nall', 'over', 'saint']\n",
      "Generated ############### \n",
      "the heart of texas\n",
      "on down in frisco bay\n",
      "all over saint i'm trav'ling on the one after 90\n",
      "i said we're trav'ling\n",
      "\n",
      "Actual ###############\n",
      "the heart of texas\n",
      "on down in frisco bay\n",
      "all over saint real and nothing to get hung about.\n",
      "strawberry fields when it's\n",
      "Input -  ['heart', 'of', 'texas\\non', 'down', 'in', 'frisco', 'bay\\nall', 'over', 'saint', 'louis\\non']\n",
      "Generated ############### \n",
      "heart of texas\n",
      "on down in frisco bay\n",
      "all over saint louis\n",
      "on not a second time\n",
      "not a second time\n",
      "not a second time\n",
      "not\n",
      "\n",
      "Actual ###############\n",
      "heart of texas\n",
      "on down in frisco bay\n",
      "all over saint louis\n",
      "on real and nothing to get hung about.\n",
      "strawberry fields when it's\n",
      "Input -  ['of', 'texas\\non', 'down', 'in', 'frisco', 'bay\\nall', 'over', 'saint', 'louis\\non', 'down']\n",
      "Generated ############### \n",
      "of texas\n",
      "on down in frisco bay\n",
      "all over saint louis\n",
      "on down on 34th and vine.\n",
      "he broke my little bottle of love\n",
      "\n",
      "Actual ###############\n",
      "of texas\n",
      "on down in frisco bay\n",
      "all over saint louis\n",
      "on down real and nothing to get hung about.\n",
      "strawberry fields when it's\n",
      "Input -  ['texas\\non', 'down', 'in', 'frisco', 'bay\\nall', 'over', 'saint', 'louis\\non', 'down', 'to']\n",
      "Generated ############### \n",
      "texas\n",
      "on down in frisco bay\n",
      "all over saint louis\n",
      "on down to diedoh! darling, if you leave me\n",
      "i'll never make it better.\n",
      "remember\n",
      "\n",
      "Actual ###############\n",
      "texas\n",
      "on down in frisco bay\n",
      "all over saint louis\n",
      "on down to real and nothing to get hung about.\n",
      "strawberry fields when it's\n",
      "Input -  ['down', 'in', 'frisco', 'bay\\nall', 'over', 'saint', 'louis\\non', 'down', 'to', 'new']\n",
      "Generated ############### \n",
      "down in frisco bay\n",
      "all over saint louis\n",
      "on down to new and better man,\n",
      "he helps you lights even try, girl\n",
      "c'mon (c'mon),\n",
      "\n",
      "Actual ###############\n",
      "down in frisco bay\n",
      "all over saint louis\n",
      "on down to new real and nothing to get hung about.\n",
      "strawberry fields when it's\n",
      "Input -  ['in', 'frisco', 'bay\\nall', 'over', 'saint', 'louis\\non', 'down', 'to', 'new', 'orleans\\nall']\n",
      "Generated ############### \n",
      "in frisco bay\n",
      "all over saint louis\n",
      "on down to new orleans\n",
      "all better trav'ling on the one after 90\n",
      "i said we're trav'ling\n",
      "\n",
      "Actual ###############\n",
      "in frisco bay\n",
      "all over saint louis\n",
      "on down to new orleans\n",
      "all real and nothing to get hung about.\n",
      "strawberry fields when it's\n",
      "Input -  ['frisco', 'bay\\nall', 'over', 'saint', 'louis\\non', 'down', 'to', 'new', 'orleans\\nall', 'the']\n",
      "Generated ############### \n",
      "frisco bay\n",
      "all over saint louis\n",
      "on down to new orleans\n",
      "all the last night, i didn't need me anymore\n",
      "well you know i\n",
      "\n",
      "Actual ###############\n",
      "frisco bay\n",
      "all over saint louis\n",
      "on down to new orleans\n",
      "all the real and nothing to get hung about.\n",
      "strawberry fields when it's\n",
      "Input -  ['bay\\nall', 'over', 'saint', 'louis\\non', 'down', 'to', 'new', 'orleans\\nall', 'the', 'cats']\n",
      "Generated ############### \n",
      "bay\n",
      "all over saint louis\n",
      "on down to new orleans\n",
      "all the cats that it's a fool who plays it cool\n",
      "by making his\n",
      "\n",
      "Actual ###############\n",
      "bay\n",
      "all over saint louis\n",
      "on down to new orleans\n",
      "all the cats real and nothing to get hung about.\n",
      "strawberry fields when it's\n",
      "Input -  ['over', 'saint', 'louis\\non', 'down', 'to', 'new', 'orleans\\nall', 'the', 'cats', 'want']\n",
      "Generated ############### \n",
      "over saint louis\n",
      "on down to new orleans\n",
      "all the cats want me at all\n",
      "i'll be here yes i will\n",
      "whenever you call\n",
      "you\n",
      "\n",
      "Actual ###############\n",
      "over saint louis\n",
      "on down to new orleans\n",
      "all the cats want real and nothing to get hung about.\n",
      "strawberry fields when it's\n",
      "Input -  ['saint', 'louis\\non', 'down', 'to', 'new', 'orleans\\nall', 'the', 'cats', 'want', 'to']\n",
      "Generated ############### \n",
      "saint louis\n",
      "on down to new orleans\n",
      "all the cats want to kiss or hold your my bonnie lies over the ocean,\n",
      "my\n",
      "\n",
      "Actual ###############\n",
      "saint louis\n",
      "on down to new orleans\n",
      "all the cats want to real and nothing to get hung about.\n",
      "strawberry fields when it's\n",
      "Input -  ['louis\\non', 'down', 'to', 'new', 'orleans\\nall', 'the', 'cats', 'want', 'to', 'dance']\n",
      "Generated ############### \n",
      "louis\n",
      "on down to new orleans\n",
      "all the cats want to dance with me\n",
      "if you wanna dance with me\n",
      "if you wanna dance\n",
      "\n",
      "Actual ###############\n",
      "louis\n",
      "on down to new orleans\n",
      "all the cats want to dance real and nothing to get hung about.\n",
      "strawberry fields when it's\n",
      "Input -  ['down', 'to', 'new', 'orleans\\nall', 'the', 'cats', 'want', 'to', 'dance', 'with\\nsweet']\n",
      "Generated ############### \n",
      "down to new orleans\n",
      "all the cats want to dance with\n",
      "sweet through\n",
      "i think i'll love you too\n",
      "i'm so happy when you\n",
      "\n",
      "Actual ###############\n",
      "down to new orleans\n",
      "all the cats want to dance with\n",
      "sweet real and nothing to get hung about.\n",
      "strawberry fields when it's\n",
      "Input -  ['cos', \"they're\", 'really', 'rocking', 'in', 'boston\\nphiladelphia,', 'pa\\ndeep', 'in', 'the', 'heart']\n",
      "Generated ############### \n",
      "cos they're really rocking in boston\n",
      "philadelphia, pa\n",
      "deep in the heart of a wonderful long, time\n",
      "since my baby's been goneah, kansas\n",
      "\n",
      "Actual ###############\n",
      "cos they're really rocking in boston\n",
      "philadelphia, pa\n",
      "deep in the heart real and nothing to get hung about.\n",
      "strawberry fields when it's\n",
      "Input -  [\"they're\", 'really', 'rocking', 'in', 'boston\\nphiladelphia,', 'pa\\ndeep', 'in', 'the', 'heart', 'of']\n",
      "Generated ############### \n",
      "they're really rocking in boston\n",
      "philadelphia, pa\n",
      "deep in the heart of a wonderful long, time\n",
      "since my baby's been goneah, kansas city\n",
      "coming\n",
      "\n",
      "Actual ###############\n",
      "they're really rocking in boston\n",
      "philadelphia, pa\n",
      "deep in the heart of real and nothing to get hung about.\n",
      "strawberry fields when it's\n",
      "Input -  ['really', 'rocking', 'in', 'boston\\nphiladelphia,', 'pa\\ndeep', 'in', 'the', 'heart', 'of', 'texas\\non']\n",
      "Generated ############### \n",
      "really rocking in boston\n",
      "philadelphia, pa\n",
      "deep in the heart of texas\n",
      "on loving, baby\n",
      "please please pleasethough i keep trying hard\n",
      "to make her\n",
      "\n",
      "Actual ###############\n",
      "really rocking in boston\n",
      "philadelphia, pa\n",
      "deep in the heart of texas\n",
      "on real and nothing to get hung about.\n",
      "strawberry fields when it's\n",
      "Input -  ['rocking', 'in', 'boston\\nphiladelphia,', 'pa\\ndeep', 'in', 'the', 'heart', 'of', 'texas\\non', 'down']\n",
      "Generated ############### \n",
      "rocking in boston\n",
      "philadelphia, pa\n",
      "deep in the heart of texas\n",
      "on down (i'm really down)\n",
      "how can you laugh when you know you\n",
      "\n",
      "Actual ###############\n",
      "rocking in boston\n",
      "philadelphia, pa\n",
      "deep in the heart of texas\n",
      "on down real and nothing to get hung about.\n",
      "strawberry fields when it's\n",
      "Input -  ['in', 'boston\\nphiladelphia,', 'pa\\ndeep', 'in', 'the', 'heart', 'of', 'texas\\non', 'down', 'in']\n",
      "Generated ############### \n",
      "in boston\n",
      "philadelphia, pa\n",
      "deep in the heart of texas\n",
      "on down in the movies\n",
      "then i know that you will plainly see\n",
      "the biggest\n",
      "\n",
      "Actual ###############\n",
      "in boston\n",
      "philadelphia, pa\n",
      "deep in the heart of texas\n",
      "on down in real and nothing to get hung about.\n",
      "strawberry fields when it's\n",
      "Input -  ['boston\\nphiladelphia,', 'pa\\ndeep', 'in', 'the', 'heart', 'of', 'texas\\non', 'down', 'in', 'frisco']\n"
     ]
    },
    {
     "name": "stdout",
     "output_type": "stream",
     "text": [
      "Generated ############### \n",
      "boston\n",
      "philadelphia, pa\n",
      "deep in the heart of texas\n",
      "on down in frisco pans\n",
      "i said get out of that kitchen\n",
      "and shake those pots\n",
      "\n",
      "Actual ###############\n",
      "boston\n",
      "philadelphia, pa\n",
      "deep in the heart of texas\n",
      "on down in frisco real and nothing to get hung about.\n",
      "strawberry fields when it's\n",
      "Input -  ['pa\\ndeep', 'in', 'the', 'heart', 'of', 'texas\\non', 'down', 'in', 'frisco', 'bay\\nall']\n",
      "Generated ############### \n",
      "pa\n",
      "deep in the heart of texas\n",
      "on down in frisco bay\n",
      "all the loving, baby\n",
      "please please pleasethough i keep trying hard\n",
      "to make\n",
      "\n",
      "Actual ###############\n",
      "pa\n",
      "deep in the heart of texas\n",
      "on down in frisco bay\n",
      "all real and nothing to get hung about.\n",
      "strawberry fields when it's\n",
      "Input -  ['in', 'the', 'heart', 'of', 'texas\\non', 'down', 'in', 'frisco', 'bay\\nall', 'over']\n",
      "Generated ############### \n",
      "in the heart of texas\n",
      "on down in frisco bay\n",
      "all over once, move over twice\n",
      "come on baby don't be cold as\n",
      "\n",
      "Actual ###############\n",
      "in the heart of texas\n",
      "on down in frisco bay\n",
      "all over real and nothing to get hung about.\n",
      "strawberry fields when it's\n",
      "Input -  ['the', 'heart', 'of', 'texas\\non', 'down', 'in', 'frisco', 'bay\\nall', 'over', 'saint']\n",
      "Generated ############### \n",
      "the heart of texas\n",
      "on down in frisco bay\n",
      "all over saint i'm trav'ling on the one after 90\n",
      "i said we're trav'ling\n",
      "\n",
      "Actual ###############\n",
      "the heart of texas\n",
      "on down in frisco bay\n",
      "all over saint real and nothing to get hung about.\n",
      "strawberry fields when it's\n",
      "Input -  ['heart', 'of', 'texas\\non', 'down', 'in', 'frisco', 'bay\\nall', 'over', 'saint', 'louis\\non']\n",
      "Generated ############### \n",
      "heart of texas\n",
      "on down in frisco bay\n",
      "all over saint louis\n",
      "on not a second time\n",
      "not a second time\n",
      "not a second time\n",
      "not\n",
      "\n",
      "Actual ###############\n",
      "heart of texas\n",
      "on down in frisco bay\n",
      "all over saint louis\n",
      "on real and nothing to get hung about.\n",
      "strawberry fields when it's\n",
      "Input -  ['of', 'texas\\non', 'down', 'in', 'frisco', 'bay\\nall', 'over', 'saint', 'louis\\non', 'down']\n",
      "Generated ############### \n",
      "of texas\n",
      "on down in frisco bay\n",
      "all over saint louis\n",
      "on down on 34th and vine.\n",
      "he broke my little bottle of love\n",
      "\n",
      "Actual ###############\n",
      "of texas\n",
      "on down in frisco bay\n",
      "all over saint louis\n",
      "on down real and nothing to get hung about.\n",
      "strawberry fields when it's\n",
      "Input -  ['texas\\non', 'down', 'in', 'frisco', 'bay\\nall', 'over', 'saint', 'louis\\non', 'down', 'to']\n",
      "Generated ############### \n",
      "texas\n",
      "on down in frisco bay\n",
      "all over saint louis\n",
      "on down to diedoh! darling, if you leave me\n",
      "i'll never make it better.\n",
      "remember\n",
      "\n",
      "Actual ###############\n",
      "texas\n",
      "on down in frisco bay\n",
      "all over saint louis\n",
      "on down to real and nothing to get hung about.\n",
      "strawberry fields when it's\n"
     ]
    }
   ],
   "source": [
    "# txt = corpus\n",
    "# start_index = 230\n",
    "for j in range(min(50, len(sentences_test))):\n",
    "    generated = []\n",
    "    actual = []\n",
    "    # sent=txt[start_index:start_index+maxlen]\n",
    "    sent = sentences_test[j]\n",
    "    generated += sent\n",
    "    actual += sent\n",
    "    print(\"Input - \",generated)\n",
    "    gen = generated\n",
    "    for i in range(min(100,len(generated))):\n",
    "        x_sample=generated[i:i+maxlen]\n",
    "        x = np.zeros((1,maxlen,vocab_size))\n",
    "        for j in range(maxlen):\n",
    "            x[0,j,word_ix[x_sample[j]]] = 1\n",
    "        probs = model.predict(x)\n",
    "        probs = np.reshape(probs,probs.shape[1])\n",
    "        ix = np.argmax(probs)\n",
    "    #     ix=np.random.choice(range(vocab_size),p=probs.ravel())\n",
    "        generated.append(ix_word[ix])\n",
    "        actual.append(next_words_test[i])\n",
    "    # for i in range(100):\n",
    "    #     x_sample=gen[i:i+maxlen]\n",
    "    #     x=np.zeros((1,maxlen,vocab_size))\n",
    "    #     for j in range(maxlen):\n",
    "    #         x[0,j,char_ix[x_sample[j]]]=1\n",
    "    #     probs=loaded_model.predict(x)[0]\n",
    "    #     ix = np.argmax(probs)\n",
    "    # #     ix=np.random.choice(range(vocab_size),p=probs.ravel())\n",
    "    #     gen+=ix_char[ix]\n",
    "    # # print(\"--------------\")\n",
    "    print(\"Generated ############### \")\n",
    "    print(\" \".join(generated))\n",
    "    print()\n",
    "    print(\"Actual ###############\")\n",
    "    print(\" \".join(actual))"
   ]
  },
  {
   "cell_type": "code",
   "execution_count": 99,
   "metadata": {},
   "outputs": [
    {
     "name": "stdout",
     "output_type": "stream",
     "text": [
      "Generated ############### \n",
      "take you down, 'cause i'm going to strawberry fields.\n",
      "nothing is real and nothing to get hung about\n",
      "strawberry fields forever\n",
      "strawberry fields\n",
      "\n",
      "Actual ###############\n",
      "take you down, 'cause i'm going to strawberry fields.\n",
      "nothing is real and nothing to get hung about.\n",
      "strawberry fields when it's\n"
     ]
    }
   ],
   "source": [
    "print(\"Generated ############### \")\n",
    "print(\" \".join(generated))\n",
    "print()\n",
    "print(\"Actual ###############\")\n",
    "print(\" \".join(actual))"
   ]
  },
  {
   "cell_type": "markdown",
   "metadata": {},
   "source": [
    "### Credits"
   ]
  },
  {
   "cell_type": "code",
   "execution_count": null,
   "metadata": {},
   "outputs": [],
   "source": [
    "1. https://github.com/fpaupier/RapLyrics-Scraper/blob/master/lyrics_scraper.py\n",
    "2. https://towardsdatascience.com/ai-generates-taylor-swifts-song-lyrics-6fd92a03ef7e\n",
    "3. "
   ]
  }
 ],
 "metadata": {
  "colab": {
   "name": "lyric_generator_by_character.ipynb",
   "provenance": [],
   "version": "0.3.2"
  },
  "kernelspec": {
   "display_name": "Python 3",
   "language": "python",
   "name": "python3"
  },
  "language_info": {
   "codemirror_mode": {
    "name": "ipython",
    "version": 3
   },
   "file_extension": ".py",
   "mimetype": "text/x-python",
   "name": "python",
   "nbconvert_exporter": "python",
   "pygments_lexer": "ipython3",
   "version": "3.7.3"
  }
 },
 "nbformat": 4,
 "nbformat_minor": 1
}
